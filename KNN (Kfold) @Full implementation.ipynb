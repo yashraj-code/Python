{
 "cells": [
  {
   "cell_type": "code",
   "execution_count": 60,
   "metadata": {},
   "outputs": [],
   "source": [
    "import numpy as np\n",
    "import pandas as pd\n",
    "import matplotlib.pyplot as plt"
   ]
  },
  {
   "cell_type": "code",
   "execution_count": 61,
   "metadata": {},
   "outputs": [],
   "source": [
    "from sklearn.model_selection import train_test_split\n",
    "from sklearn.model_selection import cross_val_score\n",
    "from sklearn import datasets\n",
    "from sklearn.neighbors import KNeighborsClassifier\n",
    "from sklearn.metrics import accuracy_score"
   ]
  },
  {
   "cell_type": "markdown",
   "metadata": {},
   "source": [
    "<h4> <u> <a> Data Processing"
   ]
  },
  {
   "cell_type": "code",
   "execution_count": 62,
   "metadata": {},
   "outputs": [
    {
     "name": "stdout",
     "output_type": "stream",
     "text": [
      "         X1        X2  class\n",
      "0  0.700335 -0.247068    0.0\n",
      "1 -3.950019  2.740080    1.0\n",
      "2  0.150222 -2.157638    1.0\n",
      "3 -1.672050 -0.941519    1.0\n",
      "4  2.560483 -1.846577    1.0\n"
     ]
    }
   ],
   "source": [
    "#load the data\n",
    "\n",
    "names= [\"X1\",\"X2\",\"class\"]\n",
    "data =pd.read_csv(\"demo_data/knn/3.concertriccir2.csv\",names = names)\n",
    "print(data.head())"
   ]
  },
  {
   "cell_type": "code",
   "execution_count": 63,
   "metadata": {},
   "outputs": [],
   "source": [
    "# Bifercate data into X and y\n",
    "X= data.iloc[:,[0,1]].to_numpy()\n",
    "y= data.iloc[:,2].to_numpy()"
   ]
  },
  {
   "cell_type": "markdown",
   "metadata": {},
   "source": [
    "<a><h4><u> Splitting the Data"
   ]
  },
  {
   "cell_type": "code",
   "execution_count": 64,
   "metadata": {},
   "outputs": [
    {
     "name": "stdout",
     "output_type": "stream",
     "text": [
      "(500, 2) (500,)\n"
     ]
    }
   ],
   "source": [
    "#checking size of X and y\n",
    "print(X.shape,y.shape)\n",
    "\n",
    "# splits into train set then test set\n",
    "X_1, X_test, y_1, y_test = train_test_split(X,y,random_state=1,test_size=0.2)\n",
    "\n",
    "#using random_sate !=0 will give you same results again\n",
    "#test_size=0.3 means that you are having test data  = 30%\n",
    "\n",
    "#Split the train data into Cross validation train and test\n",
    "# we will identify best k from here and use it to compute error on X_test\n",
    "\n",
    "X_train, X_cv, y_train, y_cv = train_test_split(X_1, y_1, random_state=1, test_size=0.2)\n"
   ]
  },
  {
   "cell_type": "markdown",
   "metadata": {},
   "source": [
    "<a><h4><u> Simple Cross Validation"
   ]
  },
  {
   "cell_type": "code",
   "execution_count": 101,
   "metadata": {},
   "outputs": [
    {
     "name": "stdout",
     "output_type": "stream",
     "text": [
      "Accuracy for k= 1 is 95.0 % \n",
      "Accuracy for k= 3 is 92.5 % \n",
      "Accuracy for k= 5 is 92.5 % \n",
      "Accuracy for k= 7 is 90.0 % \n",
      "Accuracy for k= 9 is 85.0 % \n",
      "Accuracy for k= 11 is 86.25 % \n",
      "Accuracy for k= 13 is 85.0 % \n",
      "Accuracy for k= 15 is 82.5 % \n",
      "Accuracy for k= 17 is 81.25 % \n",
      "Accuracy for k= 19 is 81.25 % \n",
      "Accuracy for k= 21 is 78.75 % \n",
      "Accuracy for k= 23 is 78.75 % \n",
      "Accuracy for k= 25 is 76.25 % \n",
      "Accuracy for k= 27 is 75.0 % \n",
      "Accuracy for k= 29 is 72.5 % \n"
     ]
    }
   ],
   "source": [
    "for k  in range(1,30,2):\n",
    "\n",
    "    knn=KNeighborsClassifier(n_neighbors=k)\n",
    "\n",
    "    #fitting the model on Train\n",
    "    knn.fit(X_train,y_train)\n",
    "\n",
    "    #predict the response on the CV_train\n",
    "    pred=knn.predict(X_cv)\n",
    "\n",
    "    #evalute CV accuracy\n",
    "    cv_acc = accuracy_score(y_cv,pred,normalize= True)*float(100)\n",
    "\n",
    "    #If normalize == True, return the fraction of correctly classified samples (float), \n",
    "    #else returns the number of correctly classified samples (int) value.\n",
    "\n",
    "    print(\"Accuracy for k= {0} is {1} % \".format(k,cv_acc))"
   ]
  },
  {
   "cell_type": "code",
   "execution_count": 102,
   "metadata": {},
   "outputs": [
    {
     "name": "stdout",
     "output_type": "stream",
     "text": [
      "Final Accuracy on training data with k= 1 is 82.0 % \n"
     ]
    }
   ],
   "source": [
    "'''we used k=1 because from CV test we saw K=1 will be best for us'''\n",
    "\n",
    "best_k=1\n",
    "knn = KNeighborsClassifier(n_neighbors=best_k)\n",
    "\n",
    "#Test complete X_train on unseen y_train\n",
    "knn.fit(X_train,y_train)\n",
    "\n",
    "#\n",
    "pred = knn.predict(X_test)\n",
    "final_acc = accuracy_score(y_test, pred, normalize=True) * float(100)\n",
    "print(\"Final Accuracy on training data with k= {0} is {1} % \".format(best_k,final_acc))"
   ]
  },
  {
   "cell_type": "markdown",
   "metadata": {},
   "source": [
    "<u>Conclusion </u> - The accuracy is very poor , and if we check for all k on this test. data.accuracy_score\n",
    "we will see k=2 has more accuracy than k=1.\n",
    "\n",
    "To solve this issue we will use cross fold validation. "
   ]
  },
  {
   "cell_type": "markdown",
   "metadata": {},
   "source": [
    "<a><h4><u> K-fold Cross Validation"
   ]
  },
  {
   "cell_type": "markdown",
   "metadata": {},
   "source": [
    "<u>1. Old method (Basic)"
   ]
  },
  {
   "cell_type": "code",
   "execution_count": 109,
   "metadata": {},
   "outputs": [
    {
     "name": "stdout",
     "output_type": "stream",
     "text": [
      "Optimal k(no of neighbours) for no of folds=10 is k= 3\n",
      "Error Array =  [0.13437500000000002, 0.11562499999999998, 0.12812500000000004, 0.12187499999999996, 0.16249999999999998, 0.15625, 0.171875, 0.16562500000000002, 0.17812499999999998, 0.19062500000000004, 0.19687500000000002, 0.21562499999999996, 0.22187500000000004, 0.23124999999999996, 0.24062499999999998, 0.27812499999999996, 0.296875, 0.30000000000000004, 0.31875, 0.328125, 0.33125000000000004, 0.328125, 0.34375, 0.34687500000000004, 0.353125]\n"
     ]
    }
   ],
   "source": [
    "#creating odd list of K for KNN\n",
    "\"\"\"or simply neigbours = list(range(1,50,2))\"\"\"\n",
    "\n",
    "myList = list(range(1,50,2))\n",
    "neighbors = list(filter(lambda x: x % 2 != 0, myList))\n",
    "\n",
    "#Filter(func,list) returns a list where function returns true \n",
    "\n",
    "#no of folds\n",
    "folds=10\n",
    "\n",
    "# empty list that will hold cv scores\n",
    "cv_scores = []\n",
    "\n",
    "for k in neighbors:\n",
    "\n",
    "    knn=KNeighborsClassifier(n_neighbors=k)\n",
    "    scores= cross_val_score(knn,X_train, y_train, cv=folds, scoring='accuracy')\n",
    "    # no of folds= 10\n",
    "    # scores will contain a list of accuracy for all the 10 folds\n",
    "    # we only need mean of that accurarcy for each k\n",
    "    cv_scores.append(scores.mean())\n",
    "\n",
    "## changing to misclassification error(mean squared error)\n",
    "#list comprehension\n",
    "MSE = [1 - x for x in cv_scores]\n",
    "\n",
    "#determining best k \n",
    "\n",
    "min_fold_error = min(MSE)\n",
    "index_min_fold_error = MSE.index(min_fold_error)\n",
    "\n",
    "#this give optimal k for which error was lowest\n",
    "optimal_k = neighbors[index_min_fold_error]\n",
    "\n",
    "\"\"\"optimal_k = neighbors[MSE.index(min(MSE))]\"\"\"\n",
    "\n",
    "print(\"Optimal k(no of neighbours) for no of folds={0} is k= {1}\".format(folds,optimal_k))\n",
    "print(\"Error Array = \",MSE)"
   ]
  },
  {
   "cell_type": "code",
   "execution_count": 112,
   "metadata": {},
   "outputs": [
    {
     "data": {
      "image/png": "[encoded data removed]",
      "text/plain": [
       "<Figure size 720x720 with 1 Axes>"
      ]
     },
     "metadata": {
      "needs_background": "light"
     },
     "output_type": "display_data"
    }
   ],
   "source": [
    "#plot Error vs k with annotation\n",
    "plt.figure(figsize=(10,10))\n",
    "\n",
    "#for lines\n",
    "plt.plot(neighbors,MSE)\n",
    "\n",
    "#for dots\n",
    "plt.scatter(neighbors,MSE)\n",
    "\n",
    "#change the gaps in xaxis\n",
    "plt.xticks(neighbors)\n",
    "\n",
    "for x,y in zip(neighbors,np.round(MSE,3)):\n",
    "    plt.text(x+0.05,y-0.005, '({}, {})'.format(x, y),fontsize=12)\n",
    "\n",
    "plt.xlabel('Number of Neighbors K')\n",
    "plt.ylabel('Misclassification Error')\n",
    "plt.show()\n",
    "\n"
   ]
  },
  {
   "cell_type": "code",
   "execution_count": 113,
   "metadata": {},
   "outputs": [
    {
     "name": "stdout",
     "output_type": "stream",
     "text": [
      "\n",
      "The accuracy of the knn classifier for k = 3 is 86.0%\n"
     ]
    }
   ],
   "source": [
    "#-------> with k = optimal_k <--------#\n",
    "\n",
    "knn_optimal = KNeighborsClassifier(n_neighbors=optimal_k)\n",
    "\n",
    "#fitting the model\n",
    "knn_optimal.fit(X_train, y_train)\n",
    "\n",
    "#predict the response\n",
    "pred = knn_optimal.predict(X_test)\n",
    "\n",
    "#evaluate accuracy\n",
    "final_acc=accuracy_score(y_test , pred ) *float(100)\n",
    "\n",
    "print('\\nThe accuracy of the knn classifier for k = {0} is {1}%'.format(optimal_k, final_acc))"
   ]
  }
 ],
 "metadata": {
  "interpreter": {
   "hash": "b3ba2566441a7c06988d0923437866b63cedc61552a5af99d1f4fb67d367b25f"
  },
  "kernelspec": {
   "display_name": "Python 3.9.7 ('base')",
   "language": "python",
   "name": "python3"
  },
  "language_info": {
   "codemirror_mode": {
    "name": "ipython",
    "version": 3
   },
   "file_extension": ".py",
   "mimetype": "text/x-python",
   "name": "python",
   "nbconvert_exporter": "python",
   "pygments_lexer": "ipython3",
   "version": "3.9.7"
  },
  "orig_nbformat": 4
 },
 "nbformat": 4,
 "nbformat_minor": 2
}
