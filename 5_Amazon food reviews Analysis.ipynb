{
 "cells": [
  {
   "cell_type": "markdown",
   "metadata": {},
   "source": [
    "The Amazon Fine Food Reviews dataset consists of reviews of fine foods from Amazon.<br>\n",
    "Number of reviews: 568,454<br>\n",
    "Number of users: 256,059<br>\n",
    "Number of products: 74,258<br>\n",
    "Timespan: Oct 1999 - Oct 2012<br>\n",
    "Number of Attributes/Columns in data: 10 \n",
    "\n",
    "Attribute Information:\n",
    "\n",
    "1. Id\n",
    "2. ProductId - unique identifier for the product\n",
    "3. UserId - unqiue identifier for the user\n",
    "4. ProfileName\n",
    "5. HelpfulnessNumerator - number of users who found the review helpful\n",
    "6. HelpfulnessDenominator - number of users who indicated whether they found the review helpful or not\n",
    "7. Score - rating between 1 and 5\n",
    "8. Time - timestamp for the review\n",
    "9. Summary - brief summary of the review\n",
    "10. Text - text of the review\n",
    "\n",
    "#### <u>Objective </u>:\n",
    "Given a review, determine whether the review is positive (Rating of 4 or 5) or negative (rating of 1 or 2).\n"
   ]
  },
  {
   "cell_type": "code",
   "execution_count": 2,
   "metadata": {},
   "outputs": [],
   "source": [
    "import sqlite3\n",
    "import numpy as np\n",
    "import pandas as pd\n",
    "import matplotlib.pyplot as plt\n",
    "import seaborn as sns\n"
   ]
  },
  {
   "cell_type": "code",
   "execution_count": 3,
   "metadata": {},
   "outputs": [],
   "source": [
    "# LOADING the data\n",
    "\n",
    "con= sqlite3.connect(\"Datasets/Amazon _reviews_set/database.sqlite\")"
   ]
  },
  {
   "cell_type": "markdown",
   "metadata": {},
   "source": [
    "##### Filtering data"
   ]
  },
  {
   "cell_type": "code",
   "execution_count": 47,
   "metadata": {},
   "outputs": [
    {
     "name": "stdout",
     "output_type": "stream",
     "text": [
      "Number of data points in our data (10000, 10)\n"
     ]
    },
    {
     "data": {
      "text/html": [
       "<div>\n",
       "<style scoped>\n",
       "    .dataframe tbody tr th:only-of-type {\n",
       "        vertical-align: middle;\n",
       "    }\n",
       "\n",
       "    .dataframe tbody tr th {\n",
       "        vertical-align: top;\n",
       "    }\n",
       "\n",
       "    .dataframe thead th {\n",
       "        text-align: right;\n",
       "    }\n",
       "</style>\n",
       "<table border=\"1\" class=\"dataframe\">\n",
       "  <thead>\n",
       "    <tr style=\"text-align: right;\">\n",
       "      <th></th>\n",
       "      <th>Id</th>\n",
       "      <th>ProductId</th>\n",
       "      <th>UserId</th>\n",
       "      <th>ProfileName</th>\n",
       "      <th>HelpfulnessNumerator</th>\n",
       "      <th>HelpfulnessDenominator</th>\n",
       "      <th>Score</th>\n",
       "      <th>Time</th>\n",
       "      <th>Summary</th>\n",
       "      <th>Text</th>\n",
       "    </tr>\n",
       "  </thead>\n",
       "  <tbody>\n",
       "    <tr>\n",
       "      <th>0</th>\n",
       "      <td>1</td>\n",
       "      <td>B001E4KFG0</td>\n",
       "      <td>A3SGXH7AUHU8GW</td>\n",
       "      <td>delmartian</td>\n",
       "      <td>1</td>\n",
       "      <td>1</td>\n",
       "      <td>1</td>\n",
       "      <td>1303862400</td>\n",
       "      <td>Good Quality Dog Food</td>\n",
       "      <td>I have bought several of the Vitality canned d...</td>\n",
       "    </tr>\n",
       "    <tr>\n",
       "      <th>1</th>\n",
       "      <td>2</td>\n",
       "      <td>B00813GRG4</td>\n",
       "      <td>A1D87F6ZCVE5NK</td>\n",
       "      <td>dll pa</td>\n",
       "      <td>0</td>\n",
       "      <td>0</td>\n",
       "      <td>0</td>\n",
       "      <td>1346976000</td>\n",
       "      <td>Not as Advertised</td>\n",
       "      <td>Product arrived labeled as Jumbo Salted Peanut...</td>\n",
       "    </tr>\n",
       "    <tr>\n",
       "      <th>2</th>\n",
       "      <td>3</td>\n",
       "      <td>B000LQOCH0</td>\n",
       "      <td>ABXLMWJIXXAIN</td>\n",
       "      <td>Natalia Corres \"Natalia Corres\"</td>\n",
       "      <td>1</td>\n",
       "      <td>1</td>\n",
       "      <td>1</td>\n",
       "      <td>1219017600</td>\n",
       "      <td>\"Delight\" says it all</td>\n",
       "      <td>This is a confection that has been around a fe...</td>\n",
       "    </tr>\n",
       "  </tbody>\n",
       "</table>\n",
       "</div>"
      ],
      "text/plain": [
       "   Id   ProductId          UserId                      ProfileName  \\\n",
       "0   1  B001E4KFG0  A3SGXH7AUHU8GW                       delmartian   \n",
       "1   2  B00813GRG4  A1D87F6ZCVE5NK                           dll pa   \n",
       "2   3  B000LQOCH0   ABXLMWJIXXAIN  Natalia Corres \"Natalia Corres\"   \n",
       "\n",
       "   HelpfulnessNumerator  HelpfulnessDenominator  Score        Time  \\\n",
       "0                     1                       1      1  1303862400   \n",
       "1                     0                       0      0  1346976000   \n",
       "2                     1                       1      1  1219017600   \n",
       "\n",
       "                 Summary                                               Text  \n",
       "0  Good Quality Dog Food  I have bought several of the Vitality canned d...  \n",
       "1      Not as Advertised  Product arrived labeled as Jumbo Salted Peanut...  \n",
       "2  \"Delight\" says it all  This is a confection that has been around a fe...  "
      ]
     },
     "execution_count": 47,
     "metadata": {},
     "output_type": "execute_result"
    }
   ],
   "source": [
    "# Here as we only want to get the global sentiment of the recommendations (positive or negative), \n",
    "# we will purposefully ignore all Scores equal to 3. \n",
    "# If the score id above 3, then the recommendation wil be set to \"positive\".Otherwise, it will be set to \"negative\".\n",
    "\n",
    "filtered_data = pd.read_sql_query(\n",
    "\"\"\"\n",
    "SELECT * \n",
    "FROM Reviews \n",
    "WHERE Score !=3 \n",
    "LIMIT 10000 \n",
    "\"\"\", con)\n",
    "# Based on my Computationsl Power top 10k points are selected\n",
    "\n",
    "\n",
    "# Give reviews with Score>3 a positive rating, and reviews with a score<3 a negative rating.\n",
    "def partition(x):\n",
    "    if x < 3:\n",
    "        return 0\n",
    "    return 1\n",
    "\n",
    "#Changing Score column to our definition\n",
    "filtered_data[\"Score\"]= list(map(partition,filtered_data[\"Score\"]))\n",
    "\n",
    "print(\"Number of data points in our data\", filtered_data.shape)\n",
    "filtered_data.head(3)\n"
   ]
  },
  {
   "cell_type": "markdown",
   "metadata": {},
   "source": [
    "### <u> Data Cleaning </u>\n",
    "##### 1. Check on DeDuplication"
   ]
  },
  {
   "cell_type": "code",
   "execution_count": 60,
   "metadata": {},
   "outputs": [
    {
     "name": "stdout",
     "output_type": "stream",
     "text": [
      "(228659, 7)\n",
      "               UserId   ProductId ProfileName        Time  Score  \\\n",
      "0  #oc-R103C0QSV1DF5E  B006Q820X0           C  1343088000      5   \n",
      "1  #oc-R109MU5OBBZ59U  B008I1XPKA      AayGee  1350086400      5   \n",
      "2  #oc-R10LFEMQEW6QGZ  B008I1XPKA       Julie  1345939200      5   \n",
      "3  #oc-R10LT57ZGIB140  B0026LJ3EA        dipr  1310601600      3   \n",
      "4  #oc-R115TNMSPFT9I7  B005ZBZLT4     Breyton  1331510400      2   \n",
      "\n",
      "                                                Text  Score  \n",
      "0  I have to say I was a little apprehensive to b...      1  \n",
      "1  Received my free K cups as a sample promotion ...      1  \n",
      "2  Brooklyn Bean Roastery Blend K-Cups are great ...      1  \n",
      "3  The shipment of the dog food was quick.  Howev...      1  \n",
      "4  Overall its just OK when considering the price...      2  \n"
     ]
    }
   ],
   "source": [
    "# This code will Group UserId if they have same REVIEWS\n",
    "# By seeing the Count Column, it gives a fair idea on how much users have duplicate Reviews\n",
    "\n",
    "display = pd.read_sql_query(\"\"\"\n",
    "SELECT UserId, ProductId, ProfileName, Time, Score, Text, COUNT(*) as Score\n",
    "FROM Reviews\n",
    "GROUP BY UserId\n",
    "HAVING Score>1\n",
    "\"\"\", con)\n",
    "\n",
    "print(display.shape)\n",
    "print(display.head())\n",
    "\n",
    "#We can observe through Score that many users have duplicate reviews"
   ]
  },
  {
   "cell_type": "code",
   "execution_count": 61,
   "metadata": {},
   "outputs": [
    {
     "name": "stdout",
     "output_type": "stream",
     "text": [
      "(23593, 7)\n",
      "           UserId   ProductId  \\\n",
      "0  A1001WMV1CL0XH  B005DGI1PW   \n",
      "1  A10023OS6MZUC6  B001RV8CGK   \n",
      "2  A1004703RC79J9  B002TMV34E   \n",
      "3  A100IC7JRCQDUD  B00016Q6BK   \n",
      "4  A100UZGZNZ9ZYN  B002ANA9QA   \n",
      "\n",
      "                                        ProfileName        Time  Score  \\\n",
      "0                                      Corey DePaul  1345334400      5   \n",
      "1                                     Wilton Dubois  1274313600      2   \n",
      "2                                        Dean Burns  1279411200      3   \n",
      "3  Joel Elmer Coldwater III \"Research For The Best\"  1301616000      5   \n",
      "4                            Nomadic PC User \"Chef\"  1311292800      4   \n",
      "\n",
      "                                                Text  sum  \n",
      "0  We have two small Maltese and they absolutely ...    6  \n",
      "1  This taco seasoning was not good.  We used it ...    5  \n",
      "2  This is good coffee, but nothing to write home...    7  \n",
      "3  I use this for hygentic reasons as well as for...    7  \n",
      "4  I have three cats and currently feeding many c...    8  \n"
     ]
    }
   ],
   "source": [
    "# Observe for Score == 5\n",
    "\n",
    "display = pd.read_sql_query(\"\"\"\n",
    "SELECT UserId, ProductId, ProfileName, Time, Score, Text, COUNT(*) as sum\n",
    "FROM Reviews\n",
    "GROUP BY UserId\n",
    "HAVING sum>4\n",
    "\"\"\", con)\n",
    "\n",
    "print(display.shape)\n",
    "print(display.head())"
   ]
  },
  {
   "cell_type": "code",
   "execution_count": 62,
   "metadata": {},
   "outputs": [
    {
     "name": "stdout",
     "output_type": "stream",
     "text": [
      "(6, 6)\n",
      "           UserId   ProductId   ProfileName        Time  Score  \\\n",
      "0  A1001WMV1CL0XH  B005DGI1IY  Corey DePaul  1345334400      5   \n",
      "1  A1001WMV1CL0XH  B005DGI1PW  Corey DePaul  1345334400      5   \n",
      "2  A1001WMV1CL0XH  B005DGI1VG  Corey DePaul  1345334400      5   \n",
      "3  A1001WMV1CL0XH  B005DGI242  Corey DePaul  1345334400      5   \n",
      "4  A1001WMV1CL0XH  B005DGI2II  Corey DePaul  1345334400      5   \n",
      "\n",
      "                                                Text  \n",
      "0  We have two small Maltese and they absolutely ...  \n",
      "1  We have two small Maltese and they absolutely ...  \n",
      "2  We have two small Maltese and they absolutely ...  \n",
      "3  We have two small Maltese and they absolutely ...  \n",
      "4  We have two small Maltese and they absolutely ...  \n"
     ]
    }
   ],
   "source": [
    "# Lets observe for UserID = A1001WMV1CL0XH as seen above\n",
    "\n",
    "display = pd.read_sql_query(\"\"\"\n",
    "SELECT UserId, ProductId, ProfileName, Time, Score, Text\n",
    "FROM Reviews\n",
    "WHERE Score !=3 AND UserId =\"A1001WMV1CL0XH\"\n",
    "ORDER BY ProductID\n",
    "\"\"\", con)\n",
    "\n",
    "print(display.shape)\n",
    "print(display.head())"
   ]
  },
  {
   "cell_type": "markdown",
   "metadata": {},
   "source": [
    "##### 2. Remove Duplicate Data"
   ]
  },
  {
   "cell_type": "code",
   "execution_count": null,
   "metadata": {},
   "outputs": [],
   "source": [
    "# It is observed (as shown in the table below) that the reviews data had many duplicate entries.\n",
    "# Hence it was necessary to remove duplicates in order to get unbiased results for the analysis of the data. "
   ]
  },
  {
   "cell_type": "code",
   "execution_count": null,
   "metadata": {},
   "outputs": [],
   "source": [
    "# It was inferred after analysis that reviews with same parameters other than \n",
    "# ProductId belonged to the same product just having different flavour or quantity. \n",
    "# Hence in order to reduce redundancy it was decided to eliminate the rows having same parameters.\n",
    "\n",
    "# The method used for the same was that we first sort the data according to ProductId and \n",
    "# then just keep the first similar product review and delete the others"
   ]
  },
  {
   "cell_type": "code",
   "execution_count": 63,
   "metadata": {},
   "outputs": [],
   "source": [
    "#Sorting data according to ProductId in ascending order\n",
    "sorted_data=filtered_data.sort_values('ProductId', axis=0, ascending=True, inplace=False, kind='quicksort', na_position='last')"
   ]
  },
  {
   "cell_type": "code",
   "execution_count": 64,
   "metadata": {},
   "outputs": [
    {
     "data": {
      "text/plain": [
       "(9564, 10)"
      ]
     },
     "execution_count": 64,
     "metadata": {},
     "output_type": "execute_result"
    }
   ],
   "source": [
    "#Deduplication of entries\n",
    "final=sorted_data.drop_duplicates(subset={\"UserId\",\"ProfileName\",\"Time\",\"Text\"}, keep='first', inplace=False)\n",
    "final.shape"
   ]
  },
  {
   "cell_type": "code",
   "execution_count": 67,
   "metadata": {},
   "outputs": [
    {
     "data": {
      "text/plain": [
       "95.64"
      ]
     },
     "execution_count": 67,
     "metadata": {},
     "output_type": "execute_result"
    }
   ],
   "source": [
    "#Checking to see how much % of data still remains\n",
    "(final['Id'].size)/(filtered_data['Id'].size)*100"
   ]
  },
  {
   "cell_type": "markdown",
   "metadata": {},
   "source": [
    "###### Check on Helpfulness columns (if num>den) then that data should be removed"
   ]
  },
  {
   "cell_type": "code",
   "execution_count": null,
   "metadata": {},
   "outputs": [],
   "source": [
    "cc"
   ]
  }
 ],
 "metadata": {
  "interpreter": {
   "hash": "b3ba2566441a7c06988d0923437866b63cedc61552a5af99d1f4fb67d367b25f"
  },
  "kernelspec": {
   "display_name": "Python 3.9.7 ('base')",
   "language": "python",
   "name": "python3"
  },
  "language_info": {
   "codemirror_mode": {
    "name": "ipython",
    "version": 3
   },
   "file_extension": ".py",
   "mimetype": "text/x-python",
   "name": "python",
   "nbconvert_exporter": "python",
   "pygments_lexer": "ipython3",
   "version": "3.9.7"
  },
  "orig_nbformat": 4
 },
 "nbformat": 4,
 "nbformat_minor": 2
}
