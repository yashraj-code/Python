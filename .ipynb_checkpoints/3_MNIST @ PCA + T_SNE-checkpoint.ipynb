{
 "cells": [
  {
   "cell_type": "markdown",
   "id": "2528279e",
   "metadata": {},
   "source": [
    "## <u> Load MNIST DATA</u>"
   ]
  },
  {
   "cell_type": "code",
   "execution_count": 8,
   "id": "6223bd57",
   "metadata": {},
   "outputs": [],
   "source": [
    "import numpy as np\n",
    "import pandas as pd\n",
    "import matplotlib.pyplot as plt"
   ]
  },
  {
   "cell_type": "code",
   "execution_count": 25,
   "id": "351f015c",
   "metadata": {},
   "outputs": [
    {
     "name": "stdout",
     "output_type": "stream",
     "text": [
      "Shape of Training Data =  (42000, 785)\n",
      "Column name =  Index(['label', 'pixel0', 'pixel1', 'pixel2', 'pixel3', 'pixel4', 'pixel5',\n",
      "       'pixel6', 'pixel7', 'pixel8',\n",
      "       ...\n",
      "       'pixel774', 'pixel775', 'pixel776', 'pixel777', 'pixel778', 'pixel779',\n",
      "       'pixel780', 'pixel781', 'pixel782', 'pixel783'],\n",
      "      dtype='object', length=785)\n",
      "\n",
      "\n",
      " Top 5 Values = \n",
      "\n",
      "     label  pixel0  pixel1  pixel2  pixel3  pixel4  pixel5  pixel6  pixel7  \\\n",
      "0      1       0       0       0       0       0       0       0       0   \n",
      "1      0       0       0       0       0       0       0       0       0   \n",
      "2      1       0       0       0       0       0       0       0       0   \n",
      "3      4       0       0       0       0       0       0       0       0   \n",
      "4      0       0       0       0       0       0       0       0       0   \n",
      "\n",
      "   pixel8  ...  pixel774  pixel775  pixel776  pixel777  pixel778  pixel779  \\\n",
      "0       0  ...         0         0         0         0         0         0   \n",
      "1       0  ...         0         0         0         0         0         0   \n",
      "2       0  ...         0         0         0         0         0         0   \n",
      "3       0  ...         0         0         0         0         0         0   \n",
      "4       0  ...         0         0         0         0         0         0   \n",
      "\n",
      "   pixel780  pixel781  pixel782  pixel783  \n",
      "0         0         0         0         0  \n",
      "1         0         0         0         0  \n",
      "2         0         0         0         0  \n",
      "3         0         0         0         0  \n",
      "4         0         0         0         0  \n",
      "\n",
      "[5 rows x 785 columns]\n"
     ]
    }
   ],
   "source": [
    "#Location of dataset\n",
    "dtrain = pd.read_csv(r\"Datasets\\digit-recognizer\\train.csv\")\n",
    "\n",
    "print(\"Shape of Training Data = \", dtrain.shape)\n",
    "\n",
    "print(\"Column name = \", dtrain.columns)\n",
    "\n",
    "#Print top 5 Values\n",
    "print(\"\\n\\n Top 5 Values = \\n\\n \",dtrain.head(5))\n",
    "\n"
   ]
  },
  {
   "cell_type": "code",
   "execution_count": 28,
   "id": "1c270350",
   "metadata": {},
   "outputs": [
    {
     "name": "stdout",
     "output_type": "stream",
     "text": [
      "Shape of Labels =  (42000,)\n",
      "Shape of Pixels =  (42000, 784)\n"
     ]
    }
   ],
   "source": [
    "#Store all the labels in different list\n",
    "labels = dtrain[\"label\"]\n",
    "\n",
    "#Store all the pixels in different list\n",
    "#dtrain.loc[:, df.columns != 'label']\n",
    "pixels=dtrain.drop(\"label\",axis=1)\n",
    "\n",
    "print(\"Shape of Labels = \", labels.shape)\n",
    "print(\"Shape of Pixels = \", pixels.shape)\n",
    "\n",
    "#Pixels contains 784 columns which corresponds to 28*28 dim of image"
   ]
  },
  {
   "cell_type": "code",
   "execution_count": 34,
   "id": "291fad3c",
   "metadata": {},
   "outputs": [
    {
     "name": "stdout",
     "output_type": "stream",
     "text": [
      "label=  8\n"
     ]
    },
    {
     "data": {
      "image/png": "[encoded data removed]",
      "text/plain": [
       "<Figure size 504x504 with 1 Axes>"
      ]
     },
     "metadata": {
      "needs_background": "light"
     },
     "output_type": "display_data"
    }
   ],
   "source": [
    "# display or plot a number.\n",
    "plt.figure(figsize=(7,7))\n",
    "\n",
    "index = 10\n",
    "\n",
    "print(\"label= \", labels[index])\n",
    "\n",
    "# reshape from 1d to 2d pixel array of dim 28x28\n",
    "grid_data = pixels.iloc[index].to_numpy().reshape(28,28)\n",
    "\n",
    "plt.imshow(grid_data, interpolation = \"none\", cmap = \"gray\")\n",
    "plt.show()"
   ]
  },
  {
   "cell_type": "markdown",
   "id": "b5c4b679",
   "metadata": {},
   "source": [
    "## <u> 2D Visualization using PCA"
   ]
  },
  {
   "cell_type": "code",
   "execution_count": null,
   "id": "07c5e9b8",
   "metadata": {},
   "outputs": [],
   "source": []
  }
 ],
 "metadata": {
  "kernelspec": {
   "display_name": "Python 3 (ipykernel)",
   "language": "python",
   "name": "python3"
  },
  "language_info": {
   "codemirror_mode": {
    "name": "ipython",
    "version": 3
   },
   "file_extension": ".py",
   "mimetype": "text/x-python",
   "name": "python",
   "nbconvert_exporter": "python",
   "pygments_lexer": "ipython3",
   "version": "3.9.7"
  }
 },
 "nbformat": 4,
 "nbformat_minor": 5
}
