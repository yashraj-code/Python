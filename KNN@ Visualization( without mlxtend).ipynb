{
 "cells": [
  {
   "cell_type": "markdown",
   "metadata": {},
   "source": [
    "KNN for Visualization \n",
    "\n",
    "Here we will visualize different types of sets and observe KNN Decison surfaces\n",
    "\n",
    "with only matplotlib . using grid method\n"
   ]
  },
  {
   "cell_type": "code",
   "execution_count": null,
   "metadata": {},
   "outputs": [],
   "source": [
    "import numpy as np\n",
    "import pandas as pd\n",
    "import matplotlib.pyplot as plt\n",
    "from sklearn import datasets, neighbors\n",
    "from matplotlib.colors import ListedColormap"
   ]
  },
  {
   "cell_type": "code",
   "execution_count": null,
   "metadata": {},
   "outputs": [],
   "source": [
    "# Function implements KNN and plots the data\n",
    "def knn_comparision(data,k):\n",
    "\n",
    "    X=data[['x1','x2']].to_numpy()\n",
    "    y=data['y'].astype(int).to_numpy()\n",
    "\n",
    "    # creating the Grid\n",
    "    cell_size= 0.02\n",
    "\n",
    "    #color for points and their empty spcae\n",
    "    cmap_light= ListedColormap(['#FFAAAA',  '#AAAAFF'])\n",
    "    cmap_bold = ListedColormap(['#FF0000', '#0000FF'])\n",
    "\n",
    "    #objective - to crete a mesh grid for that we need to have min and max values\n",
    "\n",
    "    #finding = max , min values\n",
    "    x_min= X[:,0].min()-1\n",
    "    x_max= X[:,0].max()+1\n",
    "\n",
    "\n",
    "    y_min= X[:,1].min()-1\n",
    "    y_max= X[:,1].max()+1\n",
    "\n",
    "    # we create a mesh grid (x_min,y_min) to (x_max y_max) with 0.02 grid spaces\n",
    "    xx, yy = np.meshgrid(np.arange(x_min, x_max, cell_size), np.arange(y_min, y_max, cell_size))\n",
    "\n",
    "    #creating object for KNeighbbors\n",
    "    knn = neighbors.KNeighborsClassifier(k)\n",
    "    knn.fit(X,y)\n",
    "\n",
    "    #now XX, YY are a 2d Array.\n",
    "    #predict function only has one input.\n",
    "    # Stack both the lists\n",
    "\n",
    "    X_predict = np.stack((xx.flatten(),yy.flatten()), axis=1)\n",
    "\n",
    "    # ravel() returns a view if possible, but flatten() always returns a copy.\n",
    "    # flatten() is slower than ravel() because it needs to allocate memory.\n",
    "    # reshape(-1) could also have been used\n",
    "\n",
    "    # we predict the value (either 0 or 1) of each element in the grid\n",
    "    z= knn.predict(X_predict)\n",
    "\n",
    "    # convert the out back to the xx shape (we need it to plot the decission boundry)\n",
    "    z = z.reshape(xx.shape)\n",
    "\n",
    "\n",
    "    # pcolormesh will plot the (xx,yy) grid with colors according to the values of Z\n",
    "    # it looks like decision boundry\n",
    "\n",
    "    plt.figure()\n",
    "    plt.pcolormesh(xx, yy, z, cmap=cmap_light, shading='auto')\n",
    "\n",
    "    # scatter plot of with given points\n",
    "    plt.scatter(X[:, 0], X[:, 1], c=y, cmap=cmap_bold)\n",
    "\n",
    "    #defining scale on both axises\n",
    "    plt.xlim(xx.min(), xx.max())\n",
    "    plt.ylim(yy.min(), yy.max())\n",
    "\n",
    "    # set the title\n",
    "    plt.title('K value = '+str(k))\n",
    "\n",
    "\n",
    "    plt.show()"
   ]
  },
  {
   "cell_type": "code",
   "execution_count": null,
   "metadata": {},
   "outputs": [],
   "source": [
    "#first set\n",
    "data = pd.read_csv('demo_data/knn/1.ushape.csv', names=['x1','x2','y'])\n",
    "#they dont have a column heading\n",
    "\n",
    "print(data.head(3))\n",
    "for k in [1,5,15,30,45]:\n",
    "   knn_comparision(data,k)"
   ]
  },
  {
   "cell_type": "code",
   "execution_count": null,
   "metadata": {},
   "outputs": [],
   "source": [
    "#################################################################"
   ]
  },
  {
   "cell_type": "code",
   "execution_count": null,
   "metadata": {},
   "outputs": [],
   "source": [
    "data = pd.read_csv('demo_data/knn/2.concerticcir1.csv', names=['x1', 'x2', 'y'])\n",
    "print(data.head(3))\n",
    "for i in [1, 5, 15, 30, 45]:\n",
    "    knn_comparision(data, i)"
   ]
  },
  {
   "cell_type": "code",
   "execution_count": null,
   "metadata": {},
   "outputs": [],
   "source": [
    "#################################################################"
   ]
  },
  {
   "cell_type": "code",
   "execution_count": null,
   "metadata": {},
   "outputs": [],
   "source": [
    "data = pd.read_csv('demo_data/knn/3.concertriccir2.csv', names=['x1', 'x2', 'y'])\n",
    "print(data.head(3))\n",
    "for i in [1, 5, 15, 30, 45]:\n",
    "    knn_comparision(data, i)"
   ]
  },
  {
   "cell_type": "code",
   "execution_count": null,
   "metadata": {},
   "outputs": [],
   "source": [
    "#################################################################"
   ]
  },
  {
   "cell_type": "code",
   "execution_count": null,
   "metadata": {},
   "outputs": [],
   "source": [
    "data = pd.read_csv('demo_data/knn/4.linearsep.csv', names=['x1', 'x2', 'y'])\n",
    "print(data.head(3))\n",
    "for i in [1, 5, 15, 30, 45]:\n",
    "    knn_comparision(data, i)"
   ]
  },
  {
   "cell_type": "code",
   "execution_count": null,
   "metadata": {},
   "outputs": [],
   "source": [
    "#################################################################"
   ]
  },
  {
   "cell_type": "code",
   "execution_count": null,
   "metadata": {},
   "outputs": [],
   "source": [
    "data = pd.read_csv('demo_data/knn/5.outlier.csv', names=['x1', 'x2', 'y'])\n",
    "print(data.head(3))\n",
    "for i in [1, 5, 15, 30, 45]:\n",
    "    knn_comparision(data, i)"
   ]
  },
  {
   "cell_type": "code",
   "execution_count": null,
   "metadata": {},
   "outputs": [],
   "source": [
    "#################################################################"
   ]
  },
  {
   "cell_type": "code",
   "execution_count": null,
   "metadata": {},
   "outputs": [],
   "source": [
    "data = pd.read_csv('demo_data/knn/6.overlap.csv', names=['x1', 'x2', 'y'])\n",
    "print(data.head(3))\n",
    "for i in [1, 5, 15, 30, 45]:\n",
    "    knn_comparision(data, i)"
   ]
  },
  {
   "cell_type": "code",
   "execution_count": null,
   "metadata": {},
   "outputs": [],
   "source": [
    "#################################################################"
   ]
  },
  {
   "cell_type": "code",
   "execution_count": null,
   "metadata": {},
   "outputs": [],
   "source": [
    "data = pd.read_csv('demo_data/knn/7.xor.csv', names=['x1', 'x2', 'y'])\n",
    "print(data.head(3))\n",
    "for i in [1, 5, 15, 30, 45]:\n",
    "    knn_comparision(data, i)"
   ]
  },
  {
   "cell_type": "code",
   "execution_count": null,
   "metadata": {},
   "outputs": [],
   "source": [
    "#################################################################"
   ]
  },
  {
   "cell_type": "code",
   "execution_count": null,
   "metadata": {},
   "outputs": [],
   "source": [
    "data = pd.read_csv('demo_data/knn/8.twospirals.csv', names=['x1', 'x2', 'y'])\n",
    "print(data.head(3))\n",
    "for i in [1, 5, 15, 30, 45]:\n",
    "    knn_comparision(data, i)"
   ]
  },
  {
   "cell_type": "code",
   "execution_count": null,
   "metadata": {},
   "outputs": [],
   "source": [
    "#################################################################"
   ]
  },
  {
   "cell_type": "code",
   "execution_count": null,
   "metadata": {},
   "outputs": [],
   "source": [
    "data = pd.read_csv('demo_data/knn/9.random.csv', names=['x1', 'x2', 'y'])\n",
    "print(data.head(3))\n",
    "for i in [1, 5, 15, 30, 45]:\n",
    "    knn_comparision(data, i)"
   ]
  }
 ],
 "metadata": {
  "interpreter": {
   "hash": "b3ba2566441a7c06988d0923437866b63cedc61552a5af99d1f4fb67d367b25f"
  },
  "kernelspec": {
   "display_name": "Python 3.9.7 ('base')",
   "language": "python",
   "name": "python3"
  },
  "language_info": {
   "codemirror_mode": {
    "name": "ipython",
    "version": 3
   },
   "file_extension": ".py",
   "mimetype": "text/x-python",
   "name": "python",
   "nbconvert_exporter": "python",
   "pygments_lexer": "ipython3",
   "version": "3.9.7"
  },
  "orig_nbformat": 4
 },
 "nbformat": 4,
 "nbformat_minor": 2
}
