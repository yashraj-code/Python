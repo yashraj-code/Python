{
 "cells": [
  {
   "cell_type": "markdown",
   "metadata": {},
   "source": [
    "<a><h2>1. What is a class and object in python ?"
   ]
  },
  {
   "cell_type": "markdown",
   "metadata": {},
   "source": [
    "Class \n",
    "- The class is a user-defined data structure that binds the data members and methods into a single unit.\n",
    "- Class is a blueprint or code template for object creation.\n",
    "- Using a class, we can create as many objects as you want."
   ]
  },
  {
   "cell_type": "markdown",
   "metadata": {},
   "source": [
    "object\n",
    "- An object is an instance of a class.\n",
    "- It is a collection of attributes (variables) and methods.\n",
    "- We use the object of a class to perform actions.\n"
   ]
  },
  {
   "cell_type": "markdown",
   "metadata": {},
   "source": [
    "Objects have two characteristics:\n",
    "-   They have Attributes and Methods\n",
    "-   Attributes represent its state, and methods represent its behavior."
   ]
  },
  {
   "cell_type": "markdown",
   "metadata": {},
   "source": [
    "Every object has the following property : - \n",
    "- <tt>Identity </tt> - Every object must be uniquely identified\n",
    "- <tt> State </tt> - An object has an attribute that represents a state of an object, and it also reflects the property of an object.\n",
    "- <tt> Behaviour </tt>  -  An object has methods that represent its behavior."
   ]
  },
  {
   "cell_type": "markdown",
   "metadata": {},
   "source": [
    "<u>Example</u>\n",
    "\n",
    "Classes - Person\n",
    "\n",
    "States- Name, sex, profession   (instance variables)\n",
    "\n",
    "Behaviours - Work(), study()    (instance methods)"
   ]
  },
  {
   "cell_type": "markdown",
   "metadata": {},
   "source": [
    "<a><h2>2. Create a Class in Python"
   ]
  },
  {
   "cell_type": "markdown",
   "metadata": {},
   "source": [
    "- class is defined by using the class keyword"
   ]
  },
  {
   "cell_type": "code",
   "execution_count": 4,
   "metadata": {},
   "outputs": [
    {
     "data": {
      "text/plain": [
       "'This is a docstring. I have created a new class'"
      ]
     },
     "execution_count": 4,
     "metadata": {},
     "output_type": "execute_result"
    }
   ],
   "source": [
    "class class_name:\n",
    "    pass\n",
    "'''This is a docstring. I have created a new class'''\n",
    "\n",
    "#statements 1\n"
   ]
  },
  {
   "cell_type": "markdown",
   "metadata": {},
   "source": [
    "- statements are attributes and methods"
   ]
  },
  {
   "cell_type": "code",
   "execution_count": 16,
   "metadata": {},
   "outputs": [],
   "source": [
    "# Example 1 (Define a class in Python)\n",
    "\n",
    "class Person:\n",
    "    def __init__(self, name, sex, profession):\n",
    "        # data members (instance variables)\n",
    "        self.name = name\n",
    "        self.sex= sex\n",
    "        self.profession = profession\n",
    "    \n",
    "    #Behaviour (instance methods)\n",
    "    def show(self):\n",
    "        print('Name:', self.name, 'Sex:', self.sex, 'Profession:', self.profession)\n",
    "\n",
    "    #Behaviour (instance methods)\n",
    "    def work(self):\n",
    "        print(self.name, 'working as a', self.profession)"
   ]
  },
  {
   "cell_type": "markdown",
   "metadata": {},
   "source": [
    "<h2><a>3. Create Object of a Class"
   ]
  },
  {
   "cell_type": "markdown",
   "metadata": {},
   "source": [
    "- The object is created using the class name.\n",
    "- When we create an object of the class, it is called instantiation.\n",
    "- The object is also called the instance of a class."
   ]
  },
  {
   "cell_type": "markdown",
   "metadata": {},
   "source": [
    "<u> A constructor is a special method used to create and initialize an object of a class. </u>"
   ]
  },
  {
   "cell_type": "markdown",
   "metadata": {},
   "source": [
    "Object creation is divided into two parts in Object Creation and Object initialization\n",
    "- Internally, the__new__ is the method that creates the object\n",
    "- using the__init__() method we can implement constructor to initialize the object."
   ]
  },
  {
   "cell_type": "code",
   "execution_count": 17,
   "metadata": {},
   "outputs": [],
   "source": [
    "# <object-name> = <class-name>(<arguments>)\n",
    "\n",
    "jessa = Person('Jessa', 'Female', 'Software Engineer')"
   ]
  },
  {
   "cell_type": "code",
   "execution_count": 18,
   "metadata": {},
   "outputs": [
    {
     "name": "stdout",
     "output_type": "stream",
     "text": [
      "Name: Jessa Sex: Female Profession: Software Engineer\n",
      "Jessa working as a Software Engineer\n"
     ]
    }
   ],
   "source": [
    "# call methods\n",
    "jessa.show()\n",
    "jessa.work()"
   ]
  },
  {
   "cell_type": "markdown",
   "metadata": {},
   "source": [
    "<a><h3>4. Class Attributes"
   ]
  },
  {
   "cell_type": "markdown",
   "metadata": {},
   "source": [
    "In Class, attributes can be defined into two parts:- \n",
    "- <tt>Instance variables</tt> - The instance variables are attributes attached to an instance of a class. \n",
    "    - We define instance variables in the constructor ( the __init__() method of a class).\n",
    "    - Each and every object has its copy of the instance attribute and is unique to each object.\n"
   ]
  },
  {
   "cell_type": "markdown",
   "metadata": {},
   "source": [
    "- <tt>Class Variables</tt>:-   A class variable is a variable that is declared inside of class, but outside of any instance method or __init__() method.\n",
    "    - unlike instance variables, the value of a class variable is not varied from object to object."
   ]
  },
  {
   "cell_type": "code",
   "execution_count": 19,
   "metadata": {},
   "outputs": [
    {
     "name": "stdout",
     "output_type": "stream",
     "text": [
      "Student: Harry 12\n",
      "School name: ABC School\n",
      "Student: Jessa 14\n",
      "School name: XYZ School\n"
     ]
    }
   ],
   "source": [
    "class Student:\n",
    "    # class variables\n",
    "    school_name = 'ABC School'\n",
    "\n",
    "    # constructor\n",
    "    def __init__(self, name, age):\n",
    "        # instance variables\n",
    "        self.name = name\n",
    "        self.age = age\n",
    "\n",
    "s1 = Student(\"Harry\", 12)\n",
    "# access instance variables\n",
    "print('Student:', s1.name, s1.age)\n",
    "\n",
    "# access class variable\n",
    "print('School name:', Student.school_name)\n",
    "\n",
    "# Modify instance variables\n",
    "s1.name = 'Jessa'\n",
    "s1.age = 14\n",
    "print('Student:', s1.name, s1.age)\n",
    "\n",
    "# Modify class variables\n",
    "Student.school_name = 'XYZ School'\n",
    "print('School name:', Student.school_name)"
   ]
  },
  {
   "cell_type": "markdown",
   "metadata": {},
   "source": [
    "<a><h3>5. Class Methods"
   ]
  },
  {
   "cell_type": "markdown",
   "metadata": {},
   "source": [
    "Discussed later"
   ]
  },
  {
   "cell_type": "markdown",
   "metadata": {},
   "source": [
    "<a><h3> 6. Delete objects"
   ]
  },
  {
   "cell_type": "markdown",
   "metadata": {},
   "source": [
    "We can delete the object property by using the del keyword. After deleting it, if we try to access it, we will get an error."
   ]
  },
  {
   "cell_type": "code",
   "execution_count": 22,
   "metadata": {},
   "outputs": [],
   "source": [
    "# Example 1  - Delete object properties\n",
    "\n",
    "class Fruit:\n",
    "    def __init__(self, name, color):\n",
    "        self.name = name\n",
    "        self.color = color\n",
    "\n",
    "    def show(self):\n",
    "        print(\"Fruit is\", self.name, \"and Color is\", self.color)\n",
    "\n",
    "# creating object of the class\n",
    "obj = Fruit(\"Apple\", \"red\")\n",
    "\n",
    "# Deleting Object Properties\n",
    "del obj.name\n",
    "\n",
    "# Accessing object properties after deleting\n",
    "# print(obj.name)\n",
    "# Output: AttributeError: 'Fruit' object has no attribute 'name'"
   ]
  },
  {
   "cell_type": "code",
   "execution_count": 24,
   "metadata": {},
   "outputs": [
    {
     "name": "stdout",
     "output_type": "stream",
     "text": [
      "Department is  IT\n"
     ]
    }
   ],
   "source": [
    "# Example 2 - Delete Object\n",
    "\n",
    "class Employee:\n",
    "    depatment = \"IT\"\n",
    "\n",
    "    def show(self):\n",
    "        print(\"Department is \", self.depatment)\n",
    "\n",
    "emp = Employee()\n",
    "emp.show()\n",
    "\n",
    "# delete object\n",
    "del emp\n",
    "\n",
    "# Accessing after delete object\n",
    "#emp.show()\n",
    "# Output : NameError: name 'emp' is not defined "
   ]
  },
  {
   "cell_type": "code",
   "execution_count": null,
   "metadata": {},
   "outputs": [],
   "source": []
  },
  {
   "cell_type": "code",
   "execution_count": null,
   "metadata": {},
   "outputs": [],
   "source": []
  }
 ],
 "metadata": {
  "interpreter": {
   "hash": "b3ba2566441a7c06988d0923437866b63cedc61552a5af99d1f4fb67d367b25f"
  },
  "kernelspec": {
   "display_name": "Python 3.9.7 ('base')",
   "language": "python",
   "name": "python3"
  },
  "language_info": {
   "codemirror_mode": {
    "name": "ipython",
    "version": 3
   },
   "file_extension": ".py",
   "mimetype": "text/x-python",
   "name": "python",
   "nbconvert_exporter": "python",
   "pygments_lexer": "ipython3",
   "version": "3.9.7"
  },
  "orig_nbformat": 4
 },
 "nbformat": 4,
 "nbformat_minor": 2
}
