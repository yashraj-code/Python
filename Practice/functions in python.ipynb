{
 "cells": [
  {
   "cell_type": "markdown",
   "metadata": {},
   "source": [
    "# <a> This contains common functions in python"
   ]
  },
  {
   "cell_type": "markdown",
   "metadata": {},
   "source": [
    "<h5><a><u> 1. First-Class Functions </h5></a></u>"
   ]
  },
  {
   "cell_type": "markdown",
   "metadata": {},
   "source": [
    "A programming language is said to have first-class functions if it treats functions as first-class citizens"
   ]
  },
  {
   "cell_type": "markdown",
   "metadata": {},
   "source": [
    "<a> <u>First-Class Citizen (Programming)\n"
   ]
  },
  {
   "cell_type": "markdown",
   "metadata": {},
   "source": [
    "A first-Class citizen (sometimes called first-class objects) in a programming language is an entity which supports all the operations generally available to other entities. \n",
    "\n",
    "These operations typically include being passed as an argument, returned from a function and assigned to a variable"
   ]
  },
  {
   "cell_type": "code",
   "execution_count": 32,
   "metadata": {},
   "outputs": [
    {
     "name": "stdout",
     "output_type": "stream",
     "text": [
      "<function square at 0x00000144DB4C3310>\n",
      "49\n"
     ]
    }
   ],
   "source": [
    "# assign a function to a variable\n",
    "# this does not mean that\n",
    "# we are assignning result of the function to the variable.\n",
    "\n",
    "def square(x):\n",
    "    return (x*x)\n",
    "\n",
    "f=square(7)\n",
    "\n",
    "print(square)\n",
    "print(f)\n"
   ]
  },
  {
   "cell_type": "code",
   "execution_count": 33,
   "metadata": {},
   "outputs": [
    {
     "name": "stdout",
     "output_type": "stream",
     "text": [
      "<function square at 0x00000144DB4C3310>\n",
      "<function square at 0x00000144DB4C3310>\n"
     ]
    }
   ],
   "source": [
    "# assigning function(SQUARE) to the variable(F).\n",
    "# square () is not used because we want only function to be assigned to variable not exceuted.\n",
    "\n",
    "f=square\n",
    "\n",
    "print(square)\n",
    "print(f)"
   ]
  },
  {
   "cell_type": "markdown",
   "metadata": {},
   "source": [
    "Observation - f is equal to square function\n",
    "\n",
    "- We can treat variable 'f' as first class function"
   ]
  },
  {
   "cell_type": "code",
   "execution_count": 34,
   "metadata": {},
   "outputs": [
    {
     "name": "stdout",
     "output_type": "stream",
     "text": [
      "25\n",
      "25\n"
     ]
    }
   ],
   "source": [
    "#demo- f as square function\n",
    "print(f(5))\n",
    "print(square(5))"
   ]
  },
  {
   "cell_type": "markdown",
   "metadata": {},
   "source": [
    "<a>Higher order function"
   ]
  },
  {
   "cell_type": "markdown",
   "metadata": {},
   "source": [
    "- A function is called Higher Order Function if it contains other functions as a parameter or returns a function as an output.\n",
    "- The functions that operate with another function are known as Higher order Functions."
   ]
  },
  {
   "cell_type": "markdown",
   "metadata": {},
   "source": [
    "<h5> Example </h5>\n",
    "- Map function as it takes input (function,list) and returns new array of results"
   ]
  },
  {
   "cell_type": "code",
   "execution_count": 54,
   "metadata": {},
   "outputs": [],
   "source": [
    "# Example 1 \n",
    "# Here we give function as an input\n",
    "# Defining our own map function\n",
    "\n",
    "def square(x):\n",
    "    return(x*x)\n",
    "\n",
    "def my_map(func, arg_list):\n",
    "    result =[]\n",
    "    for i in arg_list:\n",
    "        result.append(func(i))\n",
    "    return result"
   ]
  },
  {
   "cell_type": "code",
   "execution_count": 55,
   "metadata": {},
   "outputs": [
    {
     "name": "stdout",
     "output_type": "stream",
     "text": [
      "[1, 4, 9, 16, 25]\n"
     ]
    }
   ],
   "source": [
    "squares = my_map(square,[1,2,3,4,5])\n",
    "print(squares)\n",
    "\n",
    "# Take a closer look that we are not using square() as \n",
    "# this means that we want to execute the square() function\n",
    "# which we don't want to"
   ]
  },
  {
   "cell_type": "code",
   "execution_count": 37,
   "metadata": {},
   "outputs": [],
   "source": [
    "# Example 2 \n",
    "# Here a function will be returned\n",
    "\n",
    "def logger(msg):\n",
    "\n",
    "    def log_message():\n",
    "        print('Log:', msg)\n",
    "    \n",
    "    return log_message"
   ]
  },
  {
   "cell_type": "code",
   "execution_count": 38,
   "metadata": {},
   "outputs": [
    {
     "name": "stdout",
     "output_type": "stream",
     "text": [
      "Log: Hi !\n"
     ]
    }
   ],
   "source": [
    "log_hi = logger(\"Hi !\")\n",
    "log_hi()"
   ]
  },
  {
   "cell_type": "markdown",
   "metadata": {},
   "source": [
    "log_hi= logger(hi) and it returned a function log_message.\n",
    "\n",
    "This function was excecuted by log_hi() and it remembers \"hi\" (this will be cleared after closure)"
   ]
  },
  {
   "cell_type": "code",
   "execution_count": 39,
   "metadata": {},
   "outputs": [],
   "source": [
    "####################################################################"
   ]
  },
  {
   "cell_type": "markdown",
   "metadata": {},
   "source": [
    "<h5><a><u> 2. Closures </h5></a></u>"
   ]
  },
  {
   "cell_type": "markdown",
   "metadata": {},
   "source": [
    "A closure is a record storing a function together with an environment:\n",
    "- mapping assocating each free variable of the function with the value or storage location to which the name was bound when the closure was created.\n",
    "\n",
    "- A closure, unlike a plain function, allows the function to access those captured variables through the closure's reference to them, even when the function is invoked outside their scope."
   ]
  },
  {
   "cell_type": "code",
   "execution_count": 40,
   "metadata": {},
   "outputs": [],
   "source": [
    "#Example 1\n",
    "\n",
    "def outer_func():\n",
    "    \n",
    "    # This is called free variable\n",
    "    message = \"Hi\"\n",
    "\n",
    "    def inner_func():\n",
    "        print(message)\n",
    "    \n",
    "    return inner_func()\n",
    "\n",
    "# nonne of the function takes arguments"
   ]
  },
  {
   "cell_type": "code",
   "execution_count": 41,
   "metadata": {},
   "outputs": [
    {
     "name": "stdout",
     "output_type": "stream",
     "text": [
      "Hi\n"
     ]
    }
   ],
   "source": [
    "outer_func()\n",
    "# it returns inner_func(), which in turn will exceute it.\n",
    "# in the above first class function example it returned the function,didn't invoked it"
   ]
  },
  {
   "cell_type": "code",
   "execution_count": 42,
   "metadata": {},
   "outputs": [],
   "source": [
    "#Example 1\n",
    "\n",
    "def outer_func():\n",
    "    \n",
    "    # This is called free variable\n",
    "    message = \"Hi\"\n",
    "\n",
    "    def inner_func():\n",
    "        print(message)\n",
    "    \n",
    "    # REMOVED THE ()\n",
    "    return inner_func\n",
    "\n",
    "# nonne of the function takes arguments"
   ]
  },
  {
   "cell_type": "code",
   "execution_count": 43,
   "metadata": {},
   "outputs": [
    {
     "name": "stdout",
     "output_type": "stream",
     "text": [
      "<function outer_func.<locals>.inner_func at 0x00000144DD0D15E0>\n"
     ]
    }
   ],
   "source": [
    "my_func = outer_func()\n",
    "print(my_func)\n",
    "\n",
    "# we invoked outer function and it has taken message variable in the memory\n",
    "# this means mu_func is mapped to inner_func function"
   ]
  },
  {
   "cell_type": "code",
   "execution_count": 44,
   "metadata": {},
   "outputs": [
    {
     "name": "stdout",
     "output_type": "stream",
     "text": [
      "Hi\n"
     ]
    }
   ],
   "source": [
    "my_func()\n",
    "\n",
    "# this is equivalent to inner_func()"
   ]
  },
  {
   "cell_type": "markdown",
   "metadata": {},
   "source": [
    "We are done with the exceution of our outer function but the inner function that we returned still has access to that message variable that it's printing out so that's what a closure is.\n",
    "\n",
    "- A closure is an inner function that remembers annd has access to variables in the local scope in which it was created even after the outer function has finished executing."
   ]
  },
  {
   "cell_type": "code",
   "execution_count": 45,
   "metadata": {},
   "outputs": [],
   "source": [
    "# Example 3\n",
    "\n",
    "def outer_func(msg):\n",
    "\n",
    "    message = msg\n",
    "\n",
    "    def inner_func():\n",
    "        print(message)\n",
    "    \n",
    "    # REMOVED THE ()\n",
    "    return inner_func"
   ]
  },
  {
   "cell_type": "code",
   "execution_count": 46,
   "metadata": {},
   "outputs": [],
   "source": [
    "hi_func=outer_func(\"hi\")\n",
    "hello_func = outer_func(\"Hello\")"
   ]
  },
  {
   "cell_type": "code",
   "execution_count": 47,
   "metadata": {},
   "outputs": [
    {
     "name": "stdout",
     "output_type": "stream",
     "text": [
      "hi\n",
      "Hello\n"
     ]
    }
   ],
   "source": [
    "# we know that hi_func is mapped to inner_func\n",
    "# the moment we called outer_func(\"hi\")\n",
    "# message variable was set to Hi and it remembers specific to it\n",
    "\n",
    "hi_func()\n",
    "hello_func()"
   ]
  },
  {
   "cell_type": "code",
   "execution_count": 48,
   "metadata": {},
   "outputs": [],
   "source": [
    "####################################################################"
   ]
  },
  {
   "cell_type": "markdown",
   "metadata": {},
   "source": [
    "<h5><a><u> 3. Decorators </h5></a></u>"
   ]
  },
  {
   "cell_type": "markdown",
   "metadata": {},
   "source": [
    "A decorator is just a function that takes another function as an argument, adds some kind of functionally and returns another function"
   ]
  },
  {
   "cell_type": "code",
   "execution_count": 56,
   "metadata": {},
   "outputs": [],
   "source": [
    "# Example 1\n",
    "\n",
    "# we will have a function as an argument\n",
    "def decorator_function(original_function):\n",
    "    def wrapper_function():\n",
    "        return(original_function())\n",
    "    \n",
    "    return wrapper_function\n",
    "\n",
    "def display():\n",
    "    print(\"Display function ran\")"
   ]
  },
  {
   "cell_type": "code",
   "execution_count": 57,
   "metadata": {},
   "outputs": [
    {
     "name": "stdout",
     "output_type": "stream",
     "text": [
      "Display function ran\n"
     ]
    }
   ],
   "source": [
    "decorated_display = decorator_function(display)\n",
    "decorated_display()"
   ]
  },
  {
   "cell_type": "markdown",
   "metadata": {},
   "source": [
    "- decorated_display = wrapper_function \n",
    "- decorator_function(display) - noww original_function = display\n",
    "- it returned wrapper_function but as it remembered variables, it remembers this function also\n",
    "- when decorator_display() was called - it executes wrapper function \n",
    "- it called original_function() which it remembers"
   ]
  },
  {
   "cell_type": "markdown",
   "metadata": {},
   "source": [
    "Decorating the function allows us to add functionality to our existing function.\n",
    "\n",
    "we add functionality by putting it insode the wrapper. "
   ]
  },
  {
   "cell_type": "code",
   "execution_count": 58,
   "metadata": {},
   "outputs": [
    {
     "name": "stdout",
     "output_type": "stream",
     "text": [
      "wrapper executed this before\n",
      "Display function ran\n"
     ]
    }
   ],
   "source": [
    "# Example 2\n",
    "\n",
    "# we will have a function as an argument\n",
    "def decorator_function(original_function):\n",
    "    def wrapper_function():\n",
    "        print(\"wrapper executed this before\")\n",
    "        return(original_function())\n",
    "    \n",
    "    return wrapper_function\n",
    "\n",
    "@decorator_function\n",
    "def display():\n",
    "    print(\"Display function ran\")\n",
    "\n",
    "display()"
   ]
  },
  {
   "cell_type": "code",
   "execution_count": null,
   "metadata": {},
   "outputs": [],
   "source": [
    "@decorator_function\n",
    "def display():\n",
    "    pass\n",
    "\n",
    "# it is equivalent to\n",
    "display = decorator_function(display)"
   ]
  }
 ],
 "metadata": {
  "interpreter": {
   "hash": "b3ba2566441a7c06988d0923437866b63cedc61552a5af99d1f4fb67d367b25f"
  },
  "kernelspec": {
   "display_name": "Python 3.9.7 ('base')",
   "language": "python",
   "name": "python3"
  },
  "language_info": {
   "codemirror_mode": {
    "name": "ipython",
    "version": 3
   },
   "file_extension": ".py",
   "mimetype": "text/x-python",
   "name": "python",
   "nbconvert_exporter": "python",
   "pygments_lexer": "ipython3",
   "version": "3.9.7"
  },
  "orig_nbformat": 4
 },
 "nbformat": 4,
 "nbformat_minor": 2
}
