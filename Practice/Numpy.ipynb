{
 "cells": [
  {
   "cell_type": "code",
   "execution_count": 21,
   "metadata": {},
   "outputs": [],
   "source": [
    "import numpy as np\n",
    "\n",
    "# It's perhaps simplest to remember it as 0=down and 1=across.\n",
    "\n",
    "# This means:\n",
    "# Use axis=0 to apply a method down each column, or to the row labels (the index).\n",
    "# Use axis=1 to apply a method across each row, or to the column labels."
   ]
  },
  {
   "cell_type": "markdown",
   "metadata": {},
   "source": [
    " A 2-dimensional array has two corresponding axes: the first running vertically downwards across rows (axis 0), and the second running horizontally across columns (axis 1)."
   ]
  },
  {
   "cell_type": "code",
   "execution_count": 3,
   "metadata": {},
   "outputs": [
    {
     "name": "stdout",
     "output_type": "stream",
     "text": [
      "Converted Numpy List =  [1 2 3 4]\n"
     ]
    }
   ],
   "source": [
    "#Creating Numpy Array\n",
    "\n",
    "my_list = [1,2,3,4]\n",
    "np_array = np.array(my_list)\n",
    "\n",
    "print(\"Converted Numpy List = \", np_array)"
   ]
  },
  {
   "cell_type": "code",
   "execution_count": 4,
   "metadata": {},
   "outputs": [
    {
     "name": "stdout",
     "output_type": "stream",
     "text": [
      "Converted Numpy matrix =\n",
      " [[1 2 3]\n",
      " [4 5 6]\n",
      " [7 8 9]]\n"
     ]
    }
   ],
   "source": [
    "# Creating Numpy Matrix\n",
    "\n",
    "mat= [[1,2,3] , [4,5,6], [7,8,9]]\n",
    "np_mat= np.array(mat)\n",
    "\n",
    "print(\"Converted Numpy matrix =\\n\" , np_mat)"
   ]
  },
  {
   "cell_type": "markdown",
   "metadata": {},
   "source": [
    "### <u> Arange </u>"
   ]
  },
  {
   "cell_type": "code",
   "execution_count": 5,
   "metadata": {},
   "outputs": [
    {
     "name": "stdout",
     "output_type": "stream",
     "text": [
      "Values 0 to 9 =  [0 1 2 3 4 5 6 7 8 9]\n",
      "Even values from 1 - 10 =  [ 0  2  4  6  8 10]\n"
     ]
    }
   ],
   "source": [
    "# Returns evenly spaced values within a given interval \n",
    "# with step size at 3rd position.\n",
    "# Does not include stop Value\n",
    "\n",
    "print(\"Values 0 to 9 = \",np.arange(0,10))\n",
    "\n",
    "print(\"Even values from 1 - 10 = \",np.arange(0,11,2))"
   ]
  },
  {
   "cell_type": "markdown",
   "metadata": {},
   "source": [
    "### <u> Linspace </u>"
   ]
  },
  {
   "cell_type": "code",
   "execution_count": 6,
   "metadata": {},
   "outputs": [
    {
     "name": "stdout",
     "output_type": "stream",
     "text": [
      "20 values within range (0,10) --> \n",
      " [ 0.          0.52631579  1.05263158  1.57894737  2.10526316  2.63157895\n",
      "  3.15789474  3.68421053  4.21052632  4.73684211  5.26315789  5.78947368\n",
      "  6.31578947  6.84210526  7.36842105  7.89473684  8.42105263  8.94736842\n",
      "  9.47368421 10.        ]\n"
     ]
    }
   ],
   "source": [
    "# Returns evenly spaced values within a given interval\n",
    "# with No of values at 3rd position\n",
    "\n",
    "print(\"20 values within range (0,10) --> \\n\", np.linspace(0,10,20))"
   ]
  },
  {
   "cell_type": "markdown",
   "metadata": {},
   "source": [
    "###### <font color= green>Note that `.linspace()` *includes* the stop value. To obtain an array of common fractions, increase the number of items:</font>"
   ]
  },
  {
   "cell_type": "markdown",
   "metadata": {},
   "source": [
    "### <u> Zeros and Ones </u>"
   ]
  },
  {
   "cell_type": "code",
   "execution_count": 7,
   "metadata": {},
   "outputs": [
    {
     "name": "stdout",
     "output_type": "stream",
     "text": [
      "1D- Array of Zeros of length 3 =  [0. 0. 0.]\n",
      "5x5 Array of Zeros = \n",
      " [[0. 0. 0. 0. 0.]\n",
      " [0. 0. 0. 0. 0.]\n",
      " [0. 0. 0. 0. 0.]\n",
      " [0. 0. 0. 0. 0.]\n",
      " [0. 0. 0. 0. 0.]]\n"
     ]
    }
   ],
   "source": [
    "# Generate arrays of Zeros\n",
    "\n",
    "print(\"1D- Array of Zeros of length 3 = \",np.zeros(3))\n",
    "\n",
    "print(\"5x5 Array of Zeros = \\n\", np.zeros((5,5)))"
   ]
  },
  {
   "cell_type": "code",
   "execution_count": 8,
   "metadata": {},
   "outputs": [
    {
     "name": "stdout",
     "output_type": "stream",
     "text": [
      "1-D array of size =3 -->  [1. 1. 1.]\n",
      "3x3 Array of Ones = \n",
      " [[0. 0. 0.]\n",
      " [0. 0. 0.]\n",
      " [0. 0. 0.]]\n"
     ]
    }
   ],
   "source": [
    "# Generate arrays of Ones\n",
    "\n",
    "print(\"1-D array of size =3 --> \",np.ones(3))\n",
    "\n",
    "print(\"3x3 Array of Ones = \\n\",np.zeros((3,3)))"
   ]
  },
  {
   "cell_type": "markdown",
   "metadata": {},
   "source": [
    "### <u> Eye </u>"
   ]
  },
  {
   "cell_type": "code",
   "execution_count": 9,
   "metadata": {},
   "outputs": [
    {
     "name": "stdout",
     "output_type": "stream",
     "text": [
      "Identity matrix of 4 dim = \n",
      " [[1. 0. 0. 0.]\n",
      " [0. 1. 0. 0.]\n",
      " [0. 0. 1. 0.]\n",
      " [0. 0. 0. 1.]]\n"
     ]
    }
   ],
   "source": [
    "# Creates an identity Matrix\n",
    "\n",
    "print(\"Identity matrix of 4 dim = \\n\",np.eye(4))"
   ]
  },
  {
   "cell_type": "markdown",
   "metadata": {},
   "source": [
    "### <u> Random </u>"
   ]
  },
  {
   "cell_type": "markdown",
   "metadata": {},
   "source": [
    "##### 1. rand"
   ]
  },
  {
   "cell_type": "code",
   "execution_count": 10,
   "metadata": {},
   "outputs": [
    {
     "name": "stdout",
     "output_type": "stream",
     "text": [
      "print 2 random values (0,1) -->  [0.3215122  0.19867219]\n",
      "print 5x5 dim where random no's  belong to uniform distribution-> \n",
      " [[0.83150396 0.38691823 0.73204882 0.7536713  0.65973508]\n",
      " [0.72571231 0.16288487 0.41661096 0.24729888 0.42761901]\n",
      " [0.76831477 0.26679522 0.79691319 0.96037463 0.40272948]\n",
      " [0.2027657  0.7413382  0.43536894 0.87219934 0.69323522]\n",
      " [0.99147934 0.03272632 0.52150596 0.38900558 0.11988064]]\n"
     ]
    }
   ],
   "source": [
    "# Creates an array of the given shape and \n",
    "# populates it with random samples from a UNIFORM DISTRIBUTION over (0,1)\n",
    "\n",
    "print(\"print 2 random values (0,1) --> \",np.random.rand(2))\n",
    "\n",
    "print(\"print 5x5 dim where random no's \\\n",
    " belong to uniform distribution-> \\n\",np.random.rand(5,5))"
   ]
  },
  {
   "cell_type": "markdown",
   "metadata": {},
   "source": [
    "##### 2. randn"
   ]
  },
  {
   "cell_type": "code",
   "execution_count": 11,
   "metadata": {},
   "outputs": [
    {
     "name": "stdout",
     "output_type": "stream",
     "text": [
      "print 2 random values -->  [0.17162702 0.82272502]\n",
      "print 5x5 dim where random no's  belong to STD. NORMAL distribution -> \n",
      " [[-1.48476287e+00  1.20543451e+00  5.49974667e-01  7.27782938e-01\n",
      "   8.43113284e-02]\n",
      " [-1.10881328e+00  1.16254084e+00 -2.57080545e-01 -5.56907834e-01\n",
      "  -8.83031727e-01]\n",
      " [ 2.12208457e+00  1.67763683e-01  1.31937183e+00 -2.93260553e+00\n",
      "   4.74109535e-01]\n",
      " [-6.74875540e-01  3.25532217e-02  5.40284808e-01  1.43183352e-01\n",
      "   1.14348786e+00]\n",
      " [-7.18542538e-01  1.04597441e+00 -1.93671166e-03  3.75061986e-01\n",
      "   3.65862150e-01]]\n"
     ]
    }
   ],
   "source": [
    "# Returns a Sample from the \n",
    "# \"STD. NORMAL\" distribution [mean =0 , std Dev =1]\n",
    "\n",
    "# Unlike \"rand\" which is uniform, \n",
    "# values closer to zero are more likely to appear.\n",
    "\n",
    "print(\"print 2 random values --> \",np.random.randn(2))\n",
    "\n",
    "print(\"print 5x5 dim where random no's \\\n",
    " belong to STD. NORMAL distribution -> \\n\",np.random.randn(5,5))\n"
   ]
  },
  {
   "cell_type": "markdown",
   "metadata": {},
   "source": [
    "##### 3. randint"
   ]
  },
  {
   "cell_type": "code",
   "execution_count": 12,
   "metadata": {},
   "outputs": [
    {
     "name": "stdout",
     "output_type": "stream",
     "text": [
      "Generate rand no in range (1,100)=  93\n",
      "Generate 10 random no's in range (1,100) =  [61 37 47 31 87 41 12  7 90 98]\n"
     ]
    }
   ],
   "source": [
    "# Returns random integers in (a,b] \n",
    "# where a= included to b= exclusive\n",
    "\n",
    "print(\"Generate rand no in range (1,100)= \", np.random.randint(1,100))\n",
    "\n",
    "print(\"Generate 10 random no's in range (1,100) = \",np.random.randint(1,100,10))"
   ]
  },
  {
   "cell_type": "markdown",
   "metadata": {},
   "source": [
    "### <u> Working on Array </u>"
   ]
  },
  {
   "cell_type": "code",
   "execution_count": 13,
   "metadata": {},
   "outputs": [
    {
     "name": "stdout",
     "output_type": "stream",
     "text": [
      "arr =  [ 0  1  2  3  4  5  6  7  8  9 10 11 12 13 14 15 16 17 18 19]\n",
      "rand_arr = \n",
      " [14 48 42 26 39 41 20  9 43 37]\n"
     ]
    }
   ],
   "source": [
    "# Toy data\n",
    "\n",
    "arr=np.arange(20)\n",
    "rand_arr = np.random.randint(0,50,10)\n",
    "\n",
    "print(\"arr = \",arr)\n",
    "print(\"rand_arr = \\n\",rand_arr)"
   ]
  },
  {
   "cell_type": "markdown",
   "metadata": {},
   "source": [
    "1. Shape"
   ]
  },
  {
   "cell_type": "code",
   "execution_count": 14,
   "metadata": {},
   "outputs": [
    {
     "name": "stdout",
     "output_type": "stream",
     "text": [
      "Size of the arr=  (20,)\n",
      "Sze of the rand_arr =  (10,)\n"
     ]
    }
   ],
   "source": [
    "# retuns the dimension of the numpy array\n",
    "\n",
    "print(\"Size of the arr= \", arr.shape)\n",
    "print(\"Sze of the rand_arr = \",rand_arr.shape)\n",
    "\n",
    "# When only one is written then it means it is a 1D series"
   ]
  },
  {
   "cell_type": "markdown",
   "metadata": {},
   "source": [
    "2. Reshape"
   ]
  },
  {
   "cell_type": "code",
   "execution_count": 17,
   "metadata": {},
   "outputs": [
    {
     "name": "stdout",
     "output_type": "stream",
     "text": [
      " convert arr  to 4x5 matrix =\n",
      " [[ 0  1  2  3  4]\n",
      " [ 5  6  7  8  9]\n",
      " [10 11 12 13 14]\n",
      " [15 16 17 18 19]]\n"
     ]
    }
   ],
   "source": [
    "# Returns an array containing the same data with a new shape\n",
    "\n",
    "print(\" convert arr  to 4x5 matrix =\\n\", arr.reshape(4,5))"
   ]
  },
  {
   "cell_type": "markdown",
   "metadata": {},
   "source": [
    "3. MIN & MAX"
   ]
  },
  {
   "cell_type": "code",
   "execution_count": 18,
   "metadata": {},
   "outputs": [
    {
     "name": "stdout",
     "output_type": "stream",
     "text": [
      "temp = \n",
      " [[14 48 42 26 39]\n",
      " [41 20  9 43 37]]\n",
      "\n",
      "minimum values along COLUMNS(axis=0) =\n",
      "  [14 20  9 26 37]\n",
      "\n",
      "minimum values along ROWS(axis=1) =\n",
      "  [14  9]\n"
     ]
    }
   ],
   "source": [
    "temp = rand_arr.reshape(2,5)\n",
    "print(\"temp = \\n\",temp)\n",
    "\n",
    "print(\"\\nminimum values along COLUMNS(axis=0) =\\n \",temp.min(axis=0))\n",
    "print(\"\\nminimum values along ROWS(axis=1) =\\n \",temp.min(axis=1))"
   ]
  },
  {
   "cell_type": "code",
   "execution_count": 136,
   "metadata": {},
   "outputs": [
    {
     "name": "stdout",
     "output_type": "stream",
     "text": [
      "\n",
      "MAX values along COLUMNS(axis=0) =\n",
      "  [17 36  9 36 38]\n",
      "\n",
      "MAX values along ROWS(axis=1) =\n",
      "  [38 36]\n"
     ]
    }
   ],
   "source": [
    "print(\"\\nMAX values along COLUMNS(axis=0) =\\n \",temp.max(axis=0))\n",
    "print(\"\\nMAX values along ROWS(axis=1) =\\n \",temp.max(axis=1))"
   ]
  },
  {
   "cell_type": "markdown",
   "metadata": {},
   "source": [
    "4. argmax, argmin"
   ]
  },
  {
   "cell_type": "code",
   "execution_count": 137,
   "metadata": {},
   "outputs": [
    {
     "name": "stdout",
     "output_type": "stream",
     "text": [
      "\n",
      "Position of MAX values along COLUMNS(axis=0) =\n",
      "  [0 1 1 0 0]\n",
      "\n",
      "Position of MAX values along ROWS(axis=1) =\n",
      "  [4 1]\n",
      "\n",
      "Position of MIN values along COLUMNS(axis=0) =\n",
      "  [1 0 0 1 1]\n",
      "\n",
      "Position of MIN values along ROWS(axis=1) =\n",
      "  [1 3]\n"
     ]
    }
   ],
   "source": [
    "#Returns the indices of the maximum/minimum values along an axis.\n",
    "\n",
    "print(\"\\nPosition of MAX values along COLUMNS(axis=0) =\\n \",temp.argmax(axis=0))\n",
    "print(\"\\nPosition of MAX values along ROWS(axis=1) =\\n \",temp.argmax(axis=1))\n",
    "\n",
    "print(\"\\nPosition of MIN values along COLUMNS(axis=0) =\\n \",temp.argmin(axis=0))\n",
    "print(\"\\nPosition of MIN values along ROWS(axis=1) =\\n \",temp.argmin(axis=1))"
   ]
  },
  {
   "cell_type": "markdown",
   "metadata": {},
   "source": [
    "### <u> NumPy Indexing and Selection </u>"
   ]
  },
  {
   "cell_type": "code",
   "execution_count": 138,
   "metadata": {},
   "outputs": [
    {
     "name": "stdout",
     "output_type": "stream",
     "text": [
      "arr =  [ 0  1  2  3  4  5  6  7  8  9 10 11 12 13 14 15 16 17 18 19]\n",
      "rand_arr = \n",
      " [ 5  1 38  9 41 34  6 31  4 40]\n"
     ]
    }
   ],
   "source": [
    "# Toy data\n",
    "\n",
    "arr=np.arange(20)\n",
    "rand_arr = np.random.randint(0,50,10)\n",
    "\n",
    "print(\"arr = \",arr)\n",
    "print(\"rand_arr = \\n\",rand_arr)"
   ]
  },
  {
   "cell_type": "code",
   "execution_count": 139,
   "metadata": {},
   "outputs": [
    {
     "name": "stdout",
     "output_type": "stream",
     "text": [
      "Value at index 8=  8\n",
      "values in index range(2,5) =  [38  9 41]\n"
     ]
    }
   ],
   "source": [
    "# INDEXING\n",
    "print(\"Value at index 8= \",arr[8])\n",
    "\n",
    "print(\"values in index range(2,5) = \",rand_arr[2:5])"
   ]
  },
  {
   "cell_type": "markdown",
   "metadata": {},
   "source": [
    "##### Memory Matters (IMP)"
   ]
  },
  {
   "cell_type": "code",
   "execution_count": 140,
   "metadata": {},
   "outputs": [
    {
     "name": "stdout",
     "output_type": "stream",
     "text": [
      "Original rand_arr =  [ 5  1 38  9 41 34  6 31  4 40]\n",
      "temp =  [-1  1 38  9 41 34  6 31  4 40]\n",
      "Original rand_arr =  [-1  1 38  9 41 34  6 31  4 40]\n"
     ]
    }
   ],
   "source": [
    "print(\"Original rand_arr = \", rand_arr)\n",
    "\n",
    "temp = rand_arr\n",
    "temp[0]= -1\n",
    "\n",
    "print(\"temp = \",temp )\n",
    "print(\"Original rand_arr = \", rand_arr)"
   ]
  },
  {
   "cell_type": "markdown",
   "metadata": {},
   "source": [
    "###### <font color= green> Now note the changes also occur in our original array! Data is not copied, it's a view of the original array! This avoids memory problems!</font>"
   ]
  },
  {
   "cell_type": "markdown",
   "metadata": {},
   "source": [
    "### Broadcasting\n",
    "\n",
    "###### NumPy arrays differ from normal Python lists because of their ability to broadcast. With lists, you can only reassign parts of a list with new parts of the same size and shape. \n",
    "\n",
    "###### That is, if you wanted to replace the first 5 elements in a list with a new value, you would have to pass in a new 5 element list.\n",
    "\n",
    "###### With NumPy arrays, you can broadcast a single value across a larger set of values:"
   ]
  },
  {
   "cell_type": "code",
   "execution_count": 141,
   "metadata": {},
   "outputs": [
    {
     "name": "stdout",
     "output_type": "stream",
     "text": [
      "Original rand_arr =  [-1  1 38  9 41 34  6 31  4 40]\n",
      "Modified rand_arr =  [100 100 100 100 100  34   6  31   4  40]\n"
     ]
    }
   ],
   "source": [
    "#Setting a value with index range (Broadcasting)\n",
    "print(\"Original rand_arr = \", rand_arr)\n",
    "\n",
    "rand_arr[0:5]=100\n",
    "\n",
    "print(\"Modified rand_arr = \", rand_arr)"
   ]
  },
  {
   "cell_type": "code",
   "execution_count": 142,
   "metadata": {},
   "outputs": [
    {
     "data": {
      "text/plain": [
       "array([ 0,  1,  2,  3,  4,  5,  6,  7,  8,  9, 10, 11, 12, 13, 14, 15, 16,\n",
       "       17, 18, 19])"
      ]
     },
     "execution_count": 142,
     "metadata": {},
     "output_type": "execute_result"
    }
   ],
   "source": [
    "#To get a copy, need to be explicit\n",
    "arr_copy = arr.copy()\n",
    "\n",
    "arr_copy"
   ]
  },
  {
   "cell_type": "markdown",
   "metadata": {},
   "source": [
    "##### Indexing a 2D array (matrices)"
   ]
  },
  {
   "cell_type": "code",
   "execution_count": 143,
   "metadata": {},
   "outputs": [],
   "source": [
    "# The general format is arr_2d[row][col] or arr_2d[row,col] (RECOMMENDED)"
   ]
  },
  {
   "cell_type": "code",
   "execution_count": 144,
   "metadata": {},
   "outputs": [
    {
     "name": "stdout",
     "output_type": "stream",
     "text": [
      "3x3 Matrix =\n",
      " [[  5  10  15  20  25]\n",
      " [ 30  35  40  45  50]\n",
      " [ 55  60  65  70  75]\n",
      " [ 80  85  90  95 100]]\n"
     ]
    }
   ],
   "source": [
    "arr_2d= np.arange(5,101,5).reshape(4,5)\n",
    "print(\"3x3 Matrix =\\n\" ,arr_2d)"
   ]
  },
  {
   "cell_type": "code",
   "execution_count": 145,
   "metadata": {},
   "outputs": [
    {
     "name": "stdout",
     "output_type": "stream",
     "text": [
      "value at 1,0 position=  30\n",
      "value at 1,1 position=  35\n"
     ]
    }
   ],
   "source": [
    "# Getting individual element value\n",
    "\n",
    "print(\"value at 1,0 position= \",arr_2d[1][0])\n",
    "print(\"value at 1,1 position= \",arr_2d[1,1])"
   ]
  },
  {
   "cell_type": "code",
   "execution_count": 146,
   "metadata": {},
   "outputs": [
    {
     "name": "stdout",
     "output_type": "stream",
     "text": [
      "2d ex-\n",
      " [[10 15 20 25]\n",
      " [35 40 45 50]\n",
      " [60 65 70 75]]\n",
      "\n",
      "2d ex- arr_2d[:3]= \n",
      " [[ 5 10 15 20 25]\n",
      " [30 35 40 45 50]\n",
      " [55 60 65 70 75]]\n",
      "\n",
      "2d ex- arr_2d[:3][1]= \n",
      " [30 35 40 45 50]\n",
      "\n",
      "2d ex- arr_2d[:3][1:]= \n",
      " [[30 35 40 45 50]\n",
      " [55 60 65 70 75]]\n"
     ]
    }
   ],
   "source": [
    "# 2D array slicing(IMP)\n",
    "\n",
    "#row =0,1 & Col = 1...n\n",
    "print(\"2d ex-\\n\" , arr_2d[:3,1:])\n",
    "\n",
    "\"\"\"(IMP) Notice how this is different from this\"\"\"\n",
    "\n",
    "print(\"\\n2d ex- arr_2d[:3]= \\n\" , arr_2d[:3])\n",
    "print(\"\\n2d ex- arr_2d[:3][1]= \\n\" , arr_2d[:3][1])\n",
    "\n",
    "#IT IS PRINTING THE LIST AT 1ST INDEX OF THE arr_2d[:3] \"\"\"\n",
    "\n",
    "print(\"\\n2d ex- arr_2d[:3][1:]= \\n\" , arr_2d[:3][1:])\n",
    "\n",
    "#IT IS PRINTING all the LIST after INDEX=1 OF THE arr_2d[:3] \"\"\"\n",
    "\n"
   ]
  }
 ],
 "metadata": {
  "interpreter": {
   "hash": "b3ba2566441a7c06988d0923437866b63cedc61552a5af99d1f4fb67d367b25f"
  },
  "kernelspec": {
   "display_name": "Python 3.9.7 ('base')",
   "language": "python",
   "name": "python3"
  },
  "language_info": {
   "codemirror_mode": {
    "name": "ipython",
    "version": 3
   },
   "file_extension": ".py",
   "mimetype": "text/x-python",
   "name": "python",
   "nbconvert_exporter": "python",
   "pygments_lexer": "ipython3",
   "version": "3.9.7"
  },
  "orig_nbformat": 4
 },
 "nbformat": 4,
 "nbformat_minor": 2
}
