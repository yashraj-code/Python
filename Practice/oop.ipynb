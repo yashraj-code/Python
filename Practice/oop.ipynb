{
 "cells": [
  {
   "cell_type": "markdown",
   "metadata": {},
   "source": [
    "<a><h2><u> Object Oriented Programming"
   ]
  },
  {
   "cell_type": "markdown",
   "metadata": {},
   "source": [
    "OOP allows programmers to create their own objects that have methods and attributes"
   ]
  },
  {
   "cell_type": "markdown",
   "metadata": {},
   "source": [
    "Recall that after defining a String, list, dictionary or other objects, we were able to call methods off of them with the .method_name() syntax"
   ]
  },
  {
   "cell_type": "markdown",
   "metadata": {},
   "source": [
    "These methods acts as functions that use information about the object, as well as the object itself to return results, or change the current object."
   ]
  },
  {
   "cell_type": "markdown",
   "metadata": {},
   "source": [
    "For example this includes appending to a list or counting the occurences of an element in a tuple."
   ]
  },
  {
   "cell_type": "markdown",
   "metadata": {},
   "source": [
    "OOP allows users to create their own objects"
   ]
  },
  {
   "cell_type": "markdown",
   "metadata": {},
   "source": [
    "<a><h3><u> Basic definition"
   ]
  },
  {
   "cell_type": "markdown",
   "metadata": {},
   "source": [
    "<tt> <font color=Yellow> What is a Class ? </tt> </font>"
   ]
  },
  {
   "cell_type": "markdown",
   "metadata": {},
   "source": [
    "-logical grouping of data and functions <br>\n",
    "\n",
    "-It is Basically a blueprint for creating instances and each unique employee that we create  using our employee class will be an instance of that class"
   ]
  },
  {
   "cell_type": "code",
   "execution_count": null,
   "metadata": {},
   "outputs": [],
   "source": [
    "# for Empty class\n",
    "# \"Pass\" keyword is used\n",
    "\n",
    "class Employee(): \n",
    "      pass"
   ]
  },
  {
   "cell_type": "code",
   "execution_count": null,
   "metadata": {},
   "outputs": [],
   "source": [
    "class NameOfClass():\n",
    "\n",
    "    #  Methods are functions that operate on the attributes of a specific instance of a class\n",
    "    def __init__(self,param1, param2):\n",
    "        self.param1 = param1\n",
    "        self.param2 = param2\n",
    "\n",
    "    #when ever we are going to use self.param1, python will know it is param1\n",
    "\n",
    "    def some_method(self):\n",
    "        #perform some action\n",
    "        print(self.param1)"
   ]
  },
  {
   "cell_type": "markdown",
   "metadata": {},
   "source": [
    "<tt> <font color=Yellow> What are Attributes ? </tt> </font>"
   ]
  },
  {
   "cell_type": "markdown",
   "metadata": {},
   "source": [
    "The attributes are data members (class variables and instance variables) and methods, accessed via dot notation.<br>\n",
    "\n",
    "Attributes holds data associated with a class and its objects.\n",
    "\n",
    "Two scopes for attributes: <u>class attributes </u> and <u>instance attributes</u>."
   ]
  },
  {
   "cell_type": "markdown",
   "metadata": {},
   "source": [
    "An <u>instance attributes</u> is a Python variable belonging to one, and only one, object. This variable is only accessible in the scope of this object and it is defined inside the constructor function, __init__(self,..) of the class.\n",
    "<br>\n",
    "\n",
    "A <u>class attributes </u> is a Python variable that belongs to a class rather than a particular object. It is shared between all the objects of this class and it is defined outside the constructor function, __init__(self,…), of the class."
   ]
  },
  {
   "cell_type": "markdown",
   "metadata": {},
   "source": [
    "<a><h3><u> Instance Variables"
   ]
  },
  {
   "cell_type": "markdown",
   "metadata": {},
   "source": [
    "class vs instance of the class <br><br>\n",
    "Class is Basically a blueprint for creating instances\n",
    "and each unique employee that we create using our employee class will be an instance of that class\n",
    "\n",
    "<h6>\n",
    "emp_1 = Employee() <br>\n",
    "emp_2 = Employee()\n",
    "</h6>\n",
    "\n",
    "Each of these are going to be their own unique instances of the employee class\n"
   ]
  },
  {
   "cell_type": "code",
   "execution_count": null,
   "metadata": {},
   "outputs": [],
   "source": [
    "emp_1 = Employee()\n",
    "emp_2 = Employee()\n",
    "\n",
    "print(emp_1)\n",
    "print(emp_2)\n",
    "\n",
    "# Both have different locations in the memory"
   ]
  },
  {
   "cell_type": "markdown",
   "metadata": {},
   "source": [
    "Instance variables contain Data that is unique to each instance"
   ]
  },
  {
   "cell_type": "code",
   "execution_count": null,
   "metadata": {},
   "outputs": [],
   "source": [
    "# manually create instance variables for each employee\n",
    "\n",
    "emp_1.first = 'yash'\n",
    "emp_1.last = 'Dhanuka'\n",
    "emp_1.pay = 50\n",
    "\n",
    "emp_2.first = 'test'\n",
    "emp_2.last = 'sirname'\n",
    "emp_2.pay = 00\n",
    "\n",
    "\n",
    "print(emp_1.first)"
   ]
  },
  {
   "cell_type": "markdown",
   "metadata": {},
   "source": [
    "<a><h3><u> __init__ Method"
   ]
  },
  {
   "cell_type": "code",
   "execution_count": null,
   "metadata": {},
   "outputs": [],
   "source": [
    "# Automatically creating instance of the actual object\n",
    "# __init__ method\n",
    "\n",
    "class Employee:\n",
    "    \n",
    "    #it acts like a constructor\n",
    "    def __init__(self, first, last, pay):\n",
    "        self.first = first\n",
    "        self.last = last\n",
    "        self.pay = pay\n",
    "    \n",
    "    #when ever we are going to use self.param1, python will know it is param1\n",
    "\n",
    "emp_1 = Employee('yash', 'Dhanuka', 50)\n",
    "\n",
    "print(emp_1.name)"
   ]
  },
  {
   "cell_type": "markdown",
   "metadata": {},
   "source": [
    "<a><h3><u> Changing self Attributes name"
   ]
  },
  {
   "cell_type": "code",
   "execution_count": null,
   "metadata": {},
   "outputs": [],
   "source": [
    "# Changing self Attributes name\n",
    "\n",
    "class Employee:\n",
    "    \n",
    "        def __init__(self, first, last, pay):\n",
    "        self.firstname = first\n",
    "        self.lastname = last\n",
    "        self.pay= pay\n",
    "        \n",
    "#we can write like this also\n",
    "emp_1 = Employee(first='yash', last = 'Dhanuka', pay=50)\n",
    "\n",
    "# print(emp_1.name)\n",
    "# it will now give error\n",
    "\n",
    "print(emp_1.firstname)\n",
    "# That is why by convention both attributes and self.attributes have same name\n"
   ]
  },
  {
   "cell_type": "markdown",
   "metadata": {},
   "source": [
    "<a><h3><u> Custom method"
   ]
  },
  {
   "cell_type": "code",
   "execution_count": null,
   "metadata": {},
   "outputs": [],
   "source": [
    "# custom method in our class\n",
    "# some_method\n",
    "\n",
    "class Employee:\n",
    "    \n",
    "    def __init__(self, first, last, pay):\n",
    "        self.first = first\n",
    "        self.last = last\n",
    "        self.pay= pay\n",
    "    \n",
    "\n",
    "    # Method in our class\n",
    "    # each method in a class automatically takes instance as the first argument =self\n",
    "    def fullname(self):\n",
    "        return('{} {}'. format(self.first, self.last))\n",
    "    \n",
    "\n",
    "emp_1 = Employee('yashraj','Dhanuka',50)\n",
    "\n",
    "print(emp_1.first)\n",
    "\n",
    "#as fullname is a method we need (), other wise its memory location is printed\n",
    "print(emp_1.fullname())"
   ]
  },
  {
   "cell_type": "markdown",
   "metadata": {},
   "source": [
    "<a><h3><u> Different methods to call an object"
   ]
  },
  {
   "cell_type": "code",
   "execution_count": null,
   "metadata": {},
   "outputs": [],
   "source": [
    "# Run these methods using CLASS NAME\n",
    "\n",
    "class Employee:\n",
    "    \n",
    "    def __init__(self, first, last, pay):\n",
    "        self.first = first\n",
    "        self.last = last\n",
    "        self.pay= pay\n",
    "    \n",
    "    def fullname(self):\n",
    "        return('{} {}'. format(self.first, self.last))\n",
    "    \n",
    "emp_1 = Employee('yashraj','Dhanuka',50)\n",
    "\n",
    "#It automatically passes the emp_1 instance in the function\n",
    "print(emp_1.fullname())\n",
    "\n",
    "#we need to explicitly pass the instance when calling from class name\n",
    "Employee.fullname(emp_1)"
   ]
  },
  {
   "cell_type": "markdown",
   "metadata": {},
   "source": [
    "<a><h3><u> Class Variables"
   ]
  },
  {
   "cell_type": "markdown",
   "metadata": {},
   "source": [
    "Class variables are variables that are shared among all instances of the class.<br>\n",
    "\n",
    "So while instance Variables can be unique for each instance like our<tt> names, email and pay</tt> <br>\n",
    "\n",
    "Class variables should be same for each instance"
   ]
  },
  {
   "cell_type": "code",
   "execution_count": 24,
   "metadata": {},
   "outputs": [
    {
     "name": "stdout",
     "output_type": "stream",
     "text": [
      "1000\n",
      "1400.0\n"
     ]
    }
   ],
   "source": [
    "# Example\n",
    "# Suppose we want to rasie emplyee salaries \n",
    "class Employee:\n",
    "    \n",
    "    def __init__(self, first, last, pay):\n",
    "        self.first = first\n",
    "        self.last = last\n",
    "        self.pay= pay\n",
    "    \n",
    "    def fullname(self):\n",
    "        return('{} {}'. format(self.first, self.last))\n",
    "\n",
    "    def apply_raise(self):\n",
    "        self.pay= self.pay * 1.40\n",
    "    \n",
    "emp_1 = Employee('yashraj','Dhanuka',1000)\n",
    "\n",
    "print(emp_1.pay)\n",
    "emp_1.apply_raise()\n",
    "print(emp_1.pay)\n",
    "\n",
    "# First it would be nice if we could now by how much raise amount is\n",
    "# second we could update that percentage by which salary is raised\n",
    "\n"
   ]
  },
  {
   "cell_type": "code",
   "execution_count": 31,
   "metadata": {},
   "outputs": [
    {
     "name": "stdout",
     "output_type": "stream",
     "text": [
      "1000\n",
      "1400.0\n"
     ]
    }
   ],
   "source": [
    "# Example Adding Class Variable\n",
    " \n",
    "class Employee:\n",
    "    \n",
    "    # Class Variable\n",
    "    raise_amount = 1.40\n",
    "\n",
    "    def __init__(self, first, last, pay):\n",
    "        self.first = first\n",
    "        self.last = last\n",
    "        self.pay= pay\n",
    "    \n",
    "    def fullname(self):\n",
    "        return('{} {}'. format(self.first, self.last))\n",
    "\n",
    "    # Whenever we access class variables we access them through instance of class \n",
    "    # or through class itself\n",
    "\n",
    "    def apply_raise(self):\n",
    "        #THIS WONT WORK\n",
    "        #self.pay= self.pay * 1.40\n",
    "\n",
    "        self.pay = self.pay * self.raise_amount\n",
    "        # self.pay = self.pay * Employee.raise_amount\n",
    "        # will also work\n",
    "\n",
    "    \n",
    "emp_1 = Employee('yashraj','Dhanuka',1000)\n",
    "emp_2 = Employee('rajesh','goel',7000)\n",
    "\n",
    "print(emp_1.pay)\n",
    "emp_1.apply_raise()\n",
    "print(emp_1.pay)"
   ]
  },
  {
   "cell_type": "markdown",
   "metadata": {},
   "source": [
    " __dict__ = it contains all the attributes which describe the object in question."
   ]
  },
  {
   "cell_type": "code",
   "execution_count": 32,
   "metadata": {},
   "outputs": [
    {
     "name": "stdout",
     "output_type": "stream",
     "text": [
      "Atributes of emp_1\n",
      "\n",
      " {'first': 'yashraj', 'last': 'Dhanuka', 'pay': 1400.0}\n",
      "\n",
      "\n",
      "Atributes of Employee\n",
      "\n",
      " {'__module__': '__main__', 'raise_amount': 1.4, '__init__': <function Employee.__init__ at 0x000001C3EBD72F70>, 'fullname': <function Employee.fullname at 0x000001C3EBD728B0>, 'apply_raise': <function Employee.apply_raise at 0x000001C3EBD72DC0>, '__dict__': <attribute '__dict__' of 'Employee' objects>, '__weakref__': <attribute '__weakref__' of 'Employee' objects>, '__doc__': None}\n"
     ]
    }
   ],
   "source": [
    "print(\"Atributes of emp_1\\n\\n\", emp_1.__dict__ ) \n",
    "print(\"\\n\\nAtributes of Employee\\n\\n\", Employee.__dict__ ) "
   ]
  },
  {
   "cell_type": "markdown",
   "metadata": {},
   "source": [
    "<a><h3><u> Accessing Class Variables"
   ]
  },
  {
   "cell_type": "code",
   "execution_count": 33,
   "metadata": {},
   "outputs": [
    {
     "name": "stdout",
     "output_type": "stream",
     "text": [
      "1.4\n",
      "1.4\n",
      "1.4\n"
     ]
    }
   ],
   "source": [
    "# lets observe\n",
    "print(Employee.raise_amount)\n",
    "print(emp_1.raise_amount)\n",
    "print(emp_2.raise_amount)"
   ]
  },
  {
   "cell_type": "code",
   "execution_count": null,
   "metadata": {},
   "outputs": [],
   "source": []
  },
  {
   "cell_type": "markdown",
   "metadata": {},
   "source": [
    "<u>Observation</u> - class variable can be accessed from both class itself as well as instances.<br><br>\n",
    "when we try to access an attribute on an instance it will first check if the instance contains that attribute and if it dosent then it will see if the class or any class that it inherits from contains that attribute.<br><br>\n",
    "when we access raise_amount instances here don't have that attribute themselves, they are accessing raise_amount class attribute<br>"
   ]
  },
  {
   "cell_type": "markdown",
   "metadata": {},
   "source": [
    "when we do <tt> employe__dict__ </tt>.<br>\n",
    "we can see a raise_amount variable there, this variable is only accessed from all the instances"
   ]
  },
  {
   "cell_type": "markdown",
   "metadata": {},
   "source": [
    "<a><h3><u> Chaning Class Variables(scope)"
   ]
  },
  {
   "cell_type": "code",
   "execution_count": 36,
   "metadata": {},
   "outputs": [
    {
     "name": "stdout",
     "output_type": "stream",
     "text": [
      "2.4\n",
      "2.4\n",
      "2.4\n"
     ]
    }
   ],
   "source": [
    "# Changing Class variable through Class name\n",
    "\n",
    "Employee.raise_amount=2.40\n",
    "print(Employee.raise_amount)\n",
    "print(emp_1.raise_amount)\n",
    "print(emp_2.raise_amount)"
   ]
  },
  {
   "cell_type": "markdown",
   "metadata": {},
   "source": [
    "<u>observation</u> - amount changes for all instances"
   ]
  },
  {
   "cell_type": "code",
   "execution_count": 37,
   "metadata": {},
   "outputs": [
    {
     "name": "stdout",
     "output_type": "stream",
     "text": [
      "2.4\n",
      "3.0\n",
      "2.4\n"
     ]
    }
   ],
   "source": [
    "# Changing Class Variable through object\n",
    "emp_1.raise_amount = 3.0\n",
    "print(Employee.raise_amount)\n",
    "print(emp_1.raise_amount)\n",
    "print(emp_2.raise_amount)"
   ]
  },
  {
   "cell_type": "markdown",
   "metadata": {},
   "source": [
    "<u>Observation- </u> Only concenred object variable changed."
   ]
  },
  {
   "cell_type": "markdown",
   "metadata": {},
   "source": [
    "It happened because we actually created the Rays amount attribute with in emp_1\n",
    "<br>\n",
    "Check it through emp_1.__dict__"
   ]
  },
  {
   "cell_type": "code",
   "execution_count": 38,
   "metadata": {},
   "outputs": [
    {
     "name": "stdout",
     "output_type": "stream",
     "text": [
      "Atributes of emp_1\n",
      "\n",
      " {'first': 'yashraj', 'last': 'Dhanuka', 'pay': 1400.0, 'raise_amount': 3.0}\n"
     ]
    }
   ],
   "source": [
    "print(\"Atributes of emp_1\\n\\n\", emp_1.__dict__ ) \n",
    "# initially raise amount was not there in emp_1\n",
    "# so now it has its own attribute and won't search for it in class"
   ]
  },
  {
   "cell_type": "code",
   "execution_count": null,
   "metadata": {},
   "outputs": [],
   "source": [
    "# Now it will matter if we are using \"SELF\" or \"EMPLOYEE\"\n",
    "\"\"\"\n",
    "def apply_raise(self):\n",
    "    self.pay = self.pay * self.raise_amount\n",
    "\"\"\"\n",
    "# self will give us ability to change attribute of that object only\n",
    "# whereas,\n",
    "# Employee.raise_amount will enforce to follow only class vairable among all objects\n",
    "\n",
    "# its better to use \"self\""
   ]
  },
  {
   "cell_type": "markdown",
   "metadata": {},
   "source": [
    "<a><h3><u> changing class variable automatically"
   ]
  },
  {
   "cell_type": "code",
   "execution_count": 40,
   "metadata": {},
   "outputs": [
    {
     "name": "stdout",
     "output_type": "stream",
     "text": [
      "2\n"
     ]
    }
   ],
   "source": [
    "# num_of_emp\n",
    "# we want to count how many employees objects were created\n",
    "\n",
    "class Employee:\n",
    "\n",
    "    raise_amount = 1.40\n",
    "    num_of_emp=0\n",
    "\n",
    "    def __init__(self, first, last, pay):\n",
    "        self.first = first\n",
    "        self.last = last\n",
    "        self.pay= pay\n",
    "\n",
    "        Employee.num_of_emp+=1\n",
    "        # if we would have used self then num_of_emp would not have changed.\n",
    "    \n",
    "    def fullname(self):\n",
    "        return('{} {}'. format(self.first, self.last))\n",
    "\n",
    "    def apply_raise(self):\n",
    "\n",
    "        self.pay = self.pay * self.raise_amount\n",
    "   \n",
    "emp_1 = Employee('yashraj','Dhanuka',1000)\n",
    "emp_2 = Employee('rajesh','goel',7000)\n",
    "\n",
    "print(Employee.num_of_emp)"
   ]
  },
  {
   "cell_type": "markdown",
   "metadata": {},
   "source": [
    "<a><h3><u> Regular vs Class vs Static Methods "
   ]
  },
  {
   "cell_type": "markdown",
   "metadata": {},
   "source": []
  }
 ],
 "metadata": {
  "interpreter": {
   "hash": "b3ba2566441a7c06988d0923437866b63cedc61552a5af99d1f4fb67d367b25f"
  },
  "kernelspec": {
   "display_name": "Python 3.9.7 ('base')",
   "language": "python",
   "name": "python3"
  },
  "language_info": {
   "codemirror_mode": {
    "name": "ipython",
    "version": 3
   },
   "file_extension": ".py",
   "mimetype": "text/x-python",
   "name": "python",
   "nbconvert_exporter": "python",
   "pygments_lexer": "ipython3",
   "version": "3.9.7"
  },
  "orig_nbformat": 4
 },
 "nbformat": 4,
 "nbformat_minor": 2
}
