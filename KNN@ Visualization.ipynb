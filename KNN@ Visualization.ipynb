{
 "cells": [
  {
   "cell_type": "markdown",
   "metadata": {},
   "source": [
    "KNN for Visualization \n",
    "\n",
    "Here we will visualize different types of sets and observe KNN Decison surfaces\n",
    "\n",
    "with the help of package - Mlxtend\n"
   ]
  },
  {
   "cell_type": "code",
   "execution_count": null,
   "metadata": {},
   "outputs": [],
   "source": [
    "import numpy as np\n",
    "import pandas as pd\n",
    "import matplotlib.pyplot as plt\n",
    "from sklearn import datasets,neighbors"
   ]
  },
  {
   "cell_type": "code",
   "execution_count": null,
   "metadata": {},
   "outputs": [],
   "source": [
    "# To visualize the decision surfaaces more efficiently\n",
    "from mlxtend.plotting import plot_decision_regions"
   ]
  },
  {
   "cell_type": "code",
   "execution_count": null,
   "metadata": {},
   "outputs": [],
   "source": [
    "#Function to perform KNN\n",
    "def knn_comparision(data,k):\n",
    "    # we received the value of k and the complete data along with labels.\n",
    "\n",
    "    #separating x\n",
    "    X= data[[\"x1\",\"x2\"]].to_numpy()\n",
    "    y= data['y'].astype(int).to_numpy()\n",
    "\n",
    "    #creating object for KNeighbbors\n",
    "    knn = neighbors.KNeighborsClassifier(n_neighbors=k)\n",
    "    knn.fit(X,y)\n",
    "\n",
    "    #Plotting the Decision regions\n",
    "    plot_decision_regions(X,y, clf=knn, legend=2)\n",
    "\n",
    "    # Adding axes annotations\n",
    "    plt.xlabel(\"X1\")\n",
    "    plt.ylabel('X2')\n",
    "    plt.title(\"Knn with k = {}\".format(str(k)))\n",
    "    plt.show()\n",
    "\n",
    "\n",
    "    "
   ]
  },
  {
   "cell_type": "code",
   "execution_count": null,
   "metadata": {},
   "outputs": [],
   "source": [
    "#first set\n",
    "data = pd.read_csv('demo_data/knn/1.ushape.csv', names=['x1','x2','y'])\n",
    "#they dont have a column heading\n",
    "data.head()\n",
    "print(data.shape)\n",
    "\n",
    "for k in [1,5,15,30,45]:\n",
    "    knn_comparision(data,k)"
   ]
  },
  {
   "cell_type": "code",
   "execution_count": null,
   "metadata": {},
   "outputs": [],
   "source": [
    "#################################################################"
   ]
  },
  {
   "cell_type": "code",
   "execution_count": null,
   "metadata": {},
   "outputs": [],
   "source": [
    "data = pd.read_csv('demo_data/knn/2.concerticcir1.csv', names=['x1', 'x2', 'y'])\n",
    "print(data.head(3))\n",
    "for i in [1, 5, 15, 30, 45]:\n",
    "    knn_comparision(data, i)"
   ]
  },
  {
   "cell_type": "code",
   "execution_count": null,
   "metadata": {},
   "outputs": [],
   "source": [
    "#################################################################"
   ]
  },
  {
   "cell_type": "code",
   "execution_count": null,
   "metadata": {},
   "outputs": [],
   "source": [
    "data = pd.read_csv('demo_data/knn/3.concertriccir2.csv', names=['x1', 'x2', 'y'])\n",
    "print(data.head(3))\n",
    "for i in [1, 5, 15, 30, 45]:\n",
    "    knn_comparision(data, i)"
   ]
  },
  {
   "cell_type": "code",
   "execution_count": null,
   "metadata": {},
   "outputs": [],
   "source": [
    "#################################################################"
   ]
  },
  {
   "cell_type": "code",
   "execution_count": null,
   "metadata": {},
   "outputs": [],
   "source": [
    "data = pd.read_csv('demo_data/knn/4.linearsep.csv', names=['x1', 'x2', 'y'])\n",
    "print(data.head(3))\n",
    "for i in [1, 5, 15, 30, 45]:\n",
    "    knn_comparision(data, i)"
   ]
  },
  {
   "cell_type": "code",
   "execution_count": null,
   "metadata": {},
   "outputs": [],
   "source": [
    "#################################################################"
   ]
  },
  {
   "cell_type": "code",
   "execution_count": null,
   "metadata": {},
   "outputs": [],
   "source": [
    "data = pd.read_csv('demo_data/knn/5.outlier.csv', names=['x1', 'x2', 'y'])\n",
    "print(data.head(3))\n",
    "for i in [1, 5, 15, 30, 45]:\n",
    "    knn_comparision(data, i)"
   ]
  },
  {
   "cell_type": "code",
   "execution_count": null,
   "metadata": {},
   "outputs": [],
   "source": [
    "#################################################################"
   ]
  },
  {
   "cell_type": "code",
   "execution_count": null,
   "metadata": {},
   "outputs": [],
   "source": [
    "data = pd.read_csv('demo_data/knn/6.overlap.csv', names=['x1', 'x2', 'y'])\n",
    "for i in [1, 5, 15, 30, 45]:\n",
    "    knn_comparision(data, i)"
   ]
  },
  {
   "cell_type": "code",
   "execution_count": null,
   "metadata": {},
   "outputs": [],
   "source": [
    "#################################################################"
   ]
  },
  {
   "cell_type": "code",
   "execution_count": null,
   "metadata": {},
   "outputs": [],
   "source": [
    "data = pd.read_csv('demo_data/knn/7.xor.csv', names=['x1', 'x2', 'y'])\n",
    "print(data.head(3))\n",
    "for i in [1, 5, 15, 30, 45]:\n",
    "    knn_comparision(data, i)"
   ]
  },
  {
   "cell_type": "code",
   "execution_count": null,
   "metadata": {},
   "outputs": [],
   "source": [
    "#################################################################"
   ]
  },
  {
   "cell_type": "code",
   "execution_count": null,
   "metadata": {},
   "outputs": [],
   "source": [
    "data = pd.read_csv('demo_data/knn/8.twospirals.csv', names=['x1', 'x2', 'y'])\n",
    "print(data.head(3))\n",
    "for i in [1, 5, 15, 30, 45]:\n",
    "    knn_comparision(data, i)"
   ]
  },
  {
   "cell_type": "code",
   "execution_count": null,
   "metadata": {},
   "outputs": [],
   "source": [
    "#################################################################"
   ]
  },
  {
   "cell_type": "code",
   "execution_count": null,
   "metadata": {},
   "outputs": [],
   "source": [
    "data = pd.read_csv('demo_data/knn/9.random.csv', names=['x1', 'x2', 'y'])\n",
    "print(data.head(3))\n",
    "for i in [1, 5, 15, 30, 45]:\n",
    "    knn_comparision(data, i)"
   ]
  }
 ],
 "metadata": {
  "interpreter": {
   "hash": "b3ba2566441a7c06988d0923437866b63cedc61552a5af99d1f4fb67d367b25f"
  },
  "kernelspec": {
   "display_name": "Python 3.9.7 ('base')",
   "language": "python",
   "name": "python3"
  },
  "language_info": {
   "codemirror_mode": {
    "name": "ipython",
    "version": 3
   },
   "file_extension": ".py",
   "mimetype": "text/x-python",
   "name": "python",
   "nbconvert_exporter": "python",
   "pygments_lexer": "ipython3",
   "version": "3.9.7"
  },
  "orig_nbformat": 4
 },
 "nbformat": 4,
 "nbformat_minor": 2
}
