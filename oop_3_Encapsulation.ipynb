{
 "cells": [
  {
   "cell_type": "markdown",
   "metadata": {},
   "source": [
    "<a><h3> What is Encapsulation in Python?"
   ]
  },
  {
   "cell_type": "markdown",
   "metadata": {},
   "source": [
    "Encapsulation in Python describes the concept of bundling data and methods within a single unit. \n",
    "- example, when we create a class, it means you are implementing encapsulation. \n",
    "    - A class is an example of encapsulation as it binds all the data members (instance variables) and methods into a single unit."
   ]
  },
  {
   "cell_type": "markdown",
   "metadata": {},
   "source": [
    "<img src =https://pynative.com/wp-content/uploads/2021/08/encapsulation_python_class.jpg>"
   ]
  },
  {
   "cell_type": "markdown",
   "metadata": {},
   "source": [
    "we create an Employee class by defining employee attributes such as name and salary as an instance variable and implementing behavior using work() and show() instance methods."
   ]
  },
  {
   "cell_type": "code",
   "execution_count": 2,
   "metadata": {},
   "outputs": [],
   "source": [
    "class Employee:\n",
    "\n",
    "    # constructor\n",
    "    def __init__(self, name, salary, project):\n",
    "        # data members\n",
    "        self.name = name\n",
    "        self.salary = salary\n",
    "        self.project = project\n",
    "\n",
    "    # method to display employee's details\n",
    "    def show(self):\n",
    "        # accessing public data member\n",
    "        print(\"Name: \", self.name, 'Salary:', self.salary)\n",
    "\n",
    "    # method\n",
    "    def work(self):\n",
    "        print(self.name, 'is working on', self.project)"
   ]
  },
  {
   "cell_type": "code",
   "execution_count": 3,
   "metadata": {},
   "outputs": [
    {
     "name": "stdout",
     "output_type": "stream",
     "text": [
      "Name:  Jessa Salary: 8000\n",
      "Jessa is working on NLP\n"
     ]
    }
   ],
   "source": [
    "# creating object of a class\n",
    "emp = Employee('Jessa', 8000, 'NLP')\n",
    "\n",
    "# calling public method of the class\n",
    "emp.show()\n",
    "emp.work()"
   ]
  },
  {
   "cell_type": "markdown",
   "metadata": {},
   "source": [
    "- Encapsulation, we can hide an object’s internal representation from the outside. This is called information hiding.\n",
    "- Encapsulation allows us to restrict accessing variables and methods directly and prevent accidental data modification by creating private data members and methods within a class."
   ]
  },
  {
   "cell_type": "markdown",
   "metadata": {},
   "source": [
    "<a><h3> Access Modifiers in Python"
   ]
  },
  {
   "cell_type": "markdown",
   "metadata": {},
   "source": [
    "- Access modifiers limit access to the variables and methods of a class.\n",
    "- Encapsulation can be achieved by declaring the data members and methods of a class either as private or protected.\n",
    "- In Python, we don’t have direct access modifiers like public, private, and protected.\n",
    "- We can achieve this by using single underscore and double underscores."
   ]
  },
  {
   "cell_type": "markdown",
   "metadata": {},
   "source": [
    "- Public Member: Accessible anywhere from outside of class.\n",
    "- Private Member: Accessible within the class\n",
    "- Protected Member: Accessible within the class and its sub-classes\n"
   ]
  },
  {
   "cell_type": "markdown",
   "metadata": {},
   "source": [
    "<img src= https://pynative.com/wp-content/uploads/2021/08/python_data_hiding.jpg>"
   ]
  },
  {
   "cell_type": "markdown",
   "metadata": {},
   "source": [
    "<h4><a> 1. Public Member"
   ]
  },
  {
   "cell_type": "markdown",
   "metadata": {},
   "source": [
    "- Public data members are accessible within and outside of a class.\n",
    "- All member variables of the class are by default public."
   ]
  },
  {
   "cell_type": "code",
   "execution_count": 5,
   "metadata": {},
   "outputs": [
    {
     "name": "stdout",
     "output_type": "stream",
     "text": [
      "Name:  Jessa Salary: 10000\n",
      "Name:  Jessa Salary: 10000\n"
     ]
    }
   ],
   "source": [
    "class Employee:\n",
    "    # constructor\n",
    "    def __init__(self, name, salary):\n",
    "        # public data members\n",
    "        self.name = name\n",
    "        self.salary = salary\n",
    "\n",
    "    # public instance methods\n",
    "    def show(self):\n",
    "        # accessing public data member\n",
    "        print(\"Name: \", self.name, 'Salary:', self.salary)\n",
    "\n",
    "# creating object of a class\n",
    "emp = Employee('Jessa', 10000)\n",
    "\n",
    "# accessing public data members\n",
    "print(\"Name: \", emp.name, 'Salary:', emp.salary)\n",
    "\n",
    "# calling public method of the class\n",
    "emp.show()"
   ]
  },
  {
   "cell_type": "markdown",
   "metadata": {},
   "source": [
    "<h4><a> 2. Private Member"
   ]
  },
  {
   "cell_type": "markdown",
   "metadata": {},
   "source": [
    "- To define a private variable add two underscores as a prefix at the start of a variable name.\n",
    "\n",
    "- Private members are accessible only within the class, and we can’t access them directly from the class objects."
   ]
  },
  {
   "cell_type": "code",
   "execution_count": 7,
   "metadata": {},
   "outputs": [],
   "source": [
    "class Employee:\n",
    "\n",
    "    #constructor\n",
    "    def __init__(self, name, salary):\n",
    "\n",
    "        # public data member\n",
    "        self.name = name\n",
    "\n",
    "        # private member\n",
    "        self.__salary = salary"
   ]
  },
  {
   "cell_type": "code",
   "execution_count": 9,
   "metadata": {},
   "outputs": [],
   "source": [
    "### accessing the private attribute"
   ]
  },
  {
   "cell_type": "code",
   "execution_count": 8,
   "metadata": {},
   "outputs": [
    {
     "ename": "AttributeError",
     "evalue": "'Employee' object has no attribute '__salary'",
     "output_type": "error",
     "traceback": [
      "\u001b[1;31m---------------------------------------------------------------------------\u001b[0m",
      "\u001b[1;31mAttributeError\u001b[0m                            Traceback (most recent call last)",
      "\u001b[1;32m~\\AppData\\Local\\Temp/ipykernel_7000/3006234218.py\u001b[0m in \u001b[0;36m<module>\u001b[1;34m\u001b[0m\n\u001b[0;32m      3\u001b[0m \u001b[1;33m\u001b[0m\u001b[0m\n\u001b[0;32m      4\u001b[0m \u001b[1;31m# accessing private data members\u001b[0m\u001b[1;33m\u001b[0m\u001b[1;33m\u001b[0m\u001b[0m\n\u001b[1;32m----> 5\u001b[1;33m \u001b[0mprint\u001b[0m\u001b[1;33m(\u001b[0m\u001b[1;34m'Salary:'\u001b[0m\u001b[1;33m,\u001b[0m \u001b[0memp\u001b[0m\u001b[1;33m.\u001b[0m\u001b[0m__salary\u001b[0m\u001b[1;33m)\u001b[0m\u001b[1;33m\u001b[0m\u001b[1;33m\u001b[0m\u001b[0m\n\u001b[0m",
      "\u001b[1;31mAttributeError\u001b[0m: 'Employee' object has no attribute '__salary'"
     ]
    }
   ],
   "source": [
    "# creating object of a class\n",
    "emp = Employee('Jessa', 10000)\n",
    "\n",
    "# accessing private data members\n",
    "print('Salary:', emp.__salary)"
   ]
  },
  {
   "cell_type": "markdown",
   "metadata": {},
   "source": [
    "- The salary is a private variable.\n",
    "- As you know, we can’t access the private variable from the outside of that class."
   ]
  },
  {
   "cell_type": "markdown",
   "metadata": {},
   "source": [
    "<u> We can access private members from outside of a class using the following two approaches </u>\n",
    "\n",
    "(a) Create public method to access private members\n",
    "\n",
    "(b) Use name mangling"
   ]
  },
  {
   "cell_type": "markdown",
   "metadata": {},
   "source": [
    "<a> Public method to access private members"
   ]
  },
  {
   "cell_type": "code",
   "execution_count": 11,
   "metadata": {},
   "outputs": [
    {
     "name": "stdout",
     "output_type": "stream",
     "text": [
      "Name:  Jessa Salary: 10000\n"
     ]
    }
   ],
   "source": [
    "class Employee:\n",
    "    # constructor\n",
    "    def __init__(self, name, salary):\n",
    "        # public data member\n",
    "        self.name = name\n",
    "        # private member\n",
    "        self.__salary = salary\n",
    "\n",
    "\n",
    "    # public instance methods\n",
    "    def show(self):\n",
    "        # private members are accessible from a class\n",
    "        print(\"Name: \", self.name, 'Salary:', self.__salary)\n",
    "\n",
    "\n",
    "# creating object of a class\n",
    "emp = Employee('Jessa', 10000)\n",
    "\n",
    "# calling public method of the class\n",
    "emp.show()"
   ]
  },
  {
   "cell_type": "markdown",
   "metadata": {},
   "source": [
    "<a> Name Mangling to access private members "
   ]
  },
  {
   "cell_type": "markdown",
   "metadata": {},
   "source": [
    "- We can directly access private and protected variables from outside of a class through name mangling.\n",
    "- The name mangling is created on an identifier by adding two leading underscores and one trailing underscore.\n",
    "- like this _classname__dataMember, \n",
    "- where classname is the current class, and data member is the private variable name."
   ]
  },
  {
   "cell_type": "code",
   "execution_count": 12,
   "metadata": {},
   "outputs": [],
   "source": [
    "class Employee:\n",
    "    # constructor\n",
    "    def __init__(self, name, salary):\n",
    "        # public data member\n",
    "        self.name = name\n",
    "        # private member\n",
    "        self.__salary = salary"
   ]
  },
  {
   "cell_type": "code",
   "execution_count": 13,
   "metadata": {},
   "outputs": [
    {
     "name": "stdout",
     "output_type": "stream",
     "text": [
      "Name: Jessa\n",
      "Salary: 10000\n"
     ]
    }
   ],
   "source": [
    "# creating object of a class\n",
    "emp = Employee('Jessa', 10000)\n",
    "\n",
    "print('Name:', emp.name)\n",
    "# direct access to private member using name mangling\n",
    "print('Salary:', emp._Employee__salary)"
   ]
  },
  {
   "cell_type": "markdown",
   "metadata": {},
   "source": [
    "<a><h4>3. Protected Member "
   ]
  },
  {
   "cell_type": "markdown",
   "metadata": {},
   "source": [
    "- Protected members are accessible within the class and also available to its sub-classes.\n",
    "- To define a protected member, prefix the member name with a single underscore _.\n",
    "- Protected data members are used when you implement inheritance and want to allow data members access to only child classes."
   ]
  },
  {
   "cell_type": "code",
   "execution_count": 14,
   "metadata": {},
   "outputs": [],
   "source": [
    "# base class\n",
    "class Company:\n",
    "    def __init__(self):\n",
    "        # Protected member\n",
    "        self._project = \"NLP\"\n",
    "\n",
    "# child class\n",
    "class Employee(Company):\n",
    "    def __init__(self, name):\n",
    "        self.name = name\n",
    "        Company.__init__(self)\n",
    "\n",
    "    def show(self):\n",
    "        print(\"Employee name :\", self.name)\n",
    "        # Accessing protected member in child class\n",
    "        print(\"Working on project :\", self._project)"
   ]
  },
  {
   "cell_type": "code",
   "execution_count": 15,
   "metadata": {},
   "outputs": [
    {
     "name": "stdout",
     "output_type": "stream",
     "text": [
      "Employee name : Jessa\n",
      "Working on project : NLP\n",
      "Project: NLP\n"
     ]
    }
   ],
   "source": [
    "c = Employee(\"Jessa\")\n",
    "c.show()\n",
    "\n",
    "# Direct access protected data member\n",
    "print('Project:', c._project)"
   ]
  },
  {
   "cell_type": "markdown",
   "metadata": {},
   "source": [
    "INHERITANCE COVERERD LATER"
   ]
  },
  {
   "cell_type": "markdown",
   "metadata": {},
   "source": [
    "GETTERS AND SETTERS NOT COVERED"
   ]
  }
 ],
 "metadata": {
  "interpreter": {
   "hash": "b3ba2566441a7c06988d0923437866b63cedc61552a5af99d1f4fb67d367b25f"
  },
  "kernelspec": {
   "display_name": "Python 3.9.7 ('base')",
   "language": "python",
   "name": "python3"
  },
  "language_info": {
   "codemirror_mode": {
    "name": "ipython",
    "version": 3
   },
   "file_extension": ".py",
   "mimetype": "text/x-python",
   "name": "python",
   "nbconvert_exporter": "python",
   "pygments_lexer": "ipython3",
   "version": "3.9.7"
  },
  "orig_nbformat": 4
 },
 "nbformat": 4,
 "nbformat_minor": 2
}
