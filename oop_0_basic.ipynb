{
 "cells": [
  {
   "cell_type": "markdown",
   "metadata": {},
   "source": [
    "<a><h2><u> Object Oriented Programming"
   ]
  },
  {
   "cell_type": "markdown",
   "metadata": {},
   "source": [
    "OOP allows programmers to create their own objects that have methods and attributes"
   ]
  },
  {
   "cell_type": "markdown",
   "metadata": {},
   "source": [
    "Recall that after defining a String, list, dictionary or other objects, we were able to call methods off of them with the .method_name() syntax"
   ]
  },
  {
   "cell_type": "markdown",
   "metadata": {},
   "source": [
    "These methods acts as functions that use information about the object, as well as the object itself to return results, or change the current object."
   ]
  },
  {
   "cell_type": "markdown",
   "metadata": {},
   "source": [
    "For example this includes appending to a list or counting the occurences of an element in a tuple."
   ]
  },
  {
   "cell_type": "markdown",
   "metadata": {},
   "source": [
    "OOP allows users to create their own objects"
   ]
  },
  {
   "cell_type": "markdown",
   "metadata": {},
   "source": [
    "<a><h3><u> Basic definition"
   ]
  },
  {
   "cell_type": "markdown",
   "metadata": {},
   "source": [
    "<tt> <font color=Yellow> What is a Class ? </tt> </font>"
   ]
  },
  {
   "cell_type": "markdown",
   "metadata": {},
   "source": [
    "-logical grouping of data and functions <br>\n",
    "\n",
    "-It is Basically a blueprint for creating instances and each unique employee that we create  using our employee class will be an instance of that class"
   ]
  },
  {
   "cell_type": "code",
   "execution_count": 66,
   "metadata": {},
   "outputs": [],
   "source": [
    "class NameOfClass():\n",
    "\n",
    "    #  Methods are functions that operate on the attributes of a specific instance of a class\n",
    "    def __init__(self,param1, param2):\n",
    "        self.param1 = param1\n",
    "        self.param2 = param2\n",
    "\n",
    "    #when ever we are going to use self.param1, python will know it is param1\n",
    "\n",
    "    def some_method(self):\n",
    "        #perform some action\n",
    "        print(self.param1)"
   ]
  },
  {
   "cell_type": "markdown",
   "metadata": {},
   "source": [
    "<tt> <font color=Yellow> What are Attributes ? </tt> </font>"
   ]
  },
  {
   "cell_type": "markdown",
   "metadata": {},
   "source": [
    "The attributes are data members (class variables and instance variables) and methods, accessed via dot notation.<br>\n",
    "\n",
    "- Attributes holds data associated with a class and its objects.\n",
    "\n",
    "- Two scopes for attributes: <u>class attributes </u> and <u>instance attributes</u>."
   ]
  },
  {
   "cell_type": "markdown",
   "metadata": {},
   "source": [
    "An <u>instance attributes</u> is a Python variable belonging to one, and only one, object. \n",
    "- This variable is only accessible in the scope of this object and it is defined inside the constructor function, __init__(self,..) of the class.\n",
    "<br>\n",
    "\n",
    "A <u>class attributes </u> is a Python variable that belongs to a class rather than a particular object. \n",
    "- It is shared between all the objects of this class and it is defined outside the constructor function, __init__(self,…), of the class."
   ]
  },
  {
   "cell_type": "code",
   "execution_count": 67,
   "metadata": {},
   "outputs": [],
   "source": [
    "class NameOfClass():\n",
    "      \n",
    "  class_attr = 0 \n",
    "    \n",
    "  def __init__(self, inst_attr):\n",
    "      self.inst_attr = inst_attr"
   ]
  },
  {
   "cell_type": "markdown",
   "metadata": {},
   "source": [
    "- <u> inst_attr </u> is an instance attribute defined inside the constructor.<br>\n",
    "- <u> class_attr </u> is a class attribute defined outside the constructor.\n",
    "\n",
    "The inst_attr is only accessible from the scope of an object.<br>\n",
    "The class attribute (class_attr) is accessible as both a property of the class and as a property of objects, as it is shared between all of them."
   ]
  },
  {
   "cell_type": "markdown",
   "metadata": {},
   "source": [
    "<tt> <font color=Yellow> What is an object ? </tt> </font>"
   ]
  },
  {
   "cell_type": "markdown",
   "metadata": {},
   "source": [
    "- A unique instance of a data structure that’s defined by its class.<br>\n",
    "\n",
    "- An object comprises both data members (class variables and instance variables) and methods.<br> \n",
    "\n",
    "- Once one class is created  we can use this class to create objects.<br>\n",
    "\n",
    "- An object is an instance of a class."
   ]
  },
  {
   "cell_type": "markdown",
   "metadata": {},
   "source": [
    "<tt> <font color=Yellow> What is an instance ? </tt> </font>"
   ]
  },
  {
   "cell_type": "markdown",
   "metadata": {},
   "source": [
    "An individual object of a certain class. \n",
    "\n",
    "- An object obj that belongs to a class Employee for example, is an instance of the class Employee."
   ]
  },
  {
   "cell_type": "markdown",
   "metadata": {},
   "source": [
    "To create instances of a class, you call the class using class name and pass in whatever arguments its__init__ method accepts. "
   ]
  },
  {
   "cell_type": "code",
   "execution_count": 68,
   "metadata": {},
   "outputs": [],
   "source": [
    "class Employee:\n",
    "    \n",
    "   'Common base class for all employees'\n",
    "   empCount = 0\n",
    "   \n",
    "   def __init__(self, name, salary):\n",
    "       self.name = name\n",
    "       self.salary = salary\n",
    "       Employee.empCount += 1\n",
    "\n",
    "   def displayCount(self):\n",
    "       print (\"Total Employee - \",Employee.empCount)\n",
    "\n",
    "   def displayEmployee(self):\n",
    "       print (\"Name : \", self.name,  \", Salary: \", self.salary)"
   ]
  },
  {
   "cell_type": "code",
   "execution_count": 69,
   "metadata": {},
   "outputs": [],
   "source": [
    "\"This would create first object of Employee class\" \n",
    "\n",
    "emp1 = Employee(\"Zara\", 2000)\n",
    "\n",
    "\"This would create second object of Employee class\"\n",
    "\n",
    "emp2 = Employee(\"Manni\", 5000)"
   ]
  },
  {
   "cell_type": "markdown",
   "metadata": {},
   "source": [
    "- Employee – is a class.\n",
    "- displayCount & displayEmployee – are the methods.\n",
    "- empCount , name & salary – are the Attributes (empCount- Class \n",
    "Variable &&& name , salary- Instance variable).\n",
    "- emp1 & emp2 – is an object.\n",
    "- emp1 object is an instance of class Employee."
   ]
  },
  {
   "cell_type": "markdown",
   "metadata": {},
   "source": [
    "<a><h3><u>Explanation through More Examples"
   ]
  },
  {
   "cell_type": "code",
   "execution_count": 70,
   "metadata": {},
   "outputs": [],
   "source": [
    "# for Empty class\n",
    "# \"Pass\" keyword is used\n",
    "\n",
    "class Employee(): \n",
    "      pass"
   ]
  },
  {
   "cell_type": "code",
   "execution_count": 71,
   "metadata": {},
   "outputs": [],
   "source": [
    "# Creating object - unique instance of the class Employee\n",
    "emp_1 = Employee()\n",
    "emp_2 = Employee()"
   ]
  },
  {
   "cell_type": "code",
   "execution_count": 72,
   "metadata": {},
   "outputs": [
    {
     "name": "stdout",
     "output_type": "stream",
     "text": [
      "<__main__.Employee object at 0x000001C3EBE52700>\n",
      "<__main__.Employee object at 0x000001C3EBE4C970>\n"
     ]
    }
   ],
   "source": [
    "# As these objects are unique they will have different locations in the memory\n",
    "print(emp_1)\n",
    "print(emp_2)"
   ]
  },
  {
   "cell_type": "markdown",
   "metadata": {},
   "source": [
    "<h3> Instance Variables"
   ]
  },
  {
   "cell_type": "markdown",
   "metadata": {},
   "source": [
    "Instance variables contain Data that is unique to each object"
   ]
  },
  {
   "cell_type": "code",
   "execution_count": 73,
   "metadata": {},
   "outputs": [
    {
     "name": "stdout",
     "output_type": "stream",
     "text": [
      "yash\n"
     ]
    }
   ],
   "source": [
    "# manually create instance variables for each employee\n",
    "\n",
    "emp_1.first = 'yash'\n",
    "emp_1.last = 'Dhanuka'\n",
    "emp_1.pay = 50\n",
    "\n",
    "emp_2.first = 'test'\n",
    "emp_2.last = 'sirname'\n",
    "emp_2.pay = 00\n",
    "\n",
    "\n",
    "print(emp_1.first)"
   ]
  },
  {
   "cell_type": "markdown",
   "metadata": {},
   "source": [
    "\n",
    "<h3> __init__ Method"
   ]
  },
  {
   "cell_type": "code",
   "execution_count": 75,
   "metadata": {},
   "outputs": [
    {
     "name": "stdout",
     "output_type": "stream",
     "text": [
      "yash\n"
     ]
    }
   ],
   "source": [
    "# Automatically creates instance variables of the actual object\n",
    "# __init__ method\n",
    "\n",
    "class Employee:\n",
    "    \n",
    "    #it acts like a constructor\n",
    "    #first,last,pay are instance variables\n",
    "    def __init__(self, first, last, pay):\n",
    "        self.first = first\n",
    "        self.last = last\n",
    "        self.pay = pay\n",
    "    \n",
    "    #when ever we are going to use self.param1, python will know it is param1\n",
    "\n",
    "emp_1 = Employee('yash', 'Dhanuka', 50)\n",
    "\n",
    "print(emp_1.first)"
   ]
  },
  {
   "cell_type": "markdown",
   "metadata": {},
   "source": [
    "<h3> Changing self Attributes name"
   ]
  },
  {
   "cell_type": "code",
   "execution_count": 77,
   "metadata": {},
   "outputs": [
    {
     "name": "stdout",
     "output_type": "stream",
     "text": [
      "yash\n"
     ]
    }
   ],
   "source": [
    "# Changing self Attributes name\n",
    "\n",
    "class Employee:\n",
    "    \n",
    "        def __init__(self, first, last, pay):\n",
    "                self.firstname = first\n",
    "                self.lastname = last\n",
    "                self.pay= pay\n",
    "        \n",
    "#we can write like this also\n",
    "emp_1 = Employee(first='yash', last = 'Dhanuka', pay=50)\n",
    "\n",
    "# print(emp_1.name)\n",
    "# it will now give error\n",
    "\n",
    "print(emp_1.firstname)\n",
    "# That is why by convention both attributes and self.attributes have same name\n"
   ]
  },
  {
   "cell_type": "markdown",
   "metadata": {},
   "source": [
    "<h3> Custom method"
   ]
  },
  {
   "cell_type": "code",
   "execution_count": 78,
   "metadata": {},
   "outputs": [
    {
     "name": "stdout",
     "output_type": "stream",
     "text": [
      "yashraj\n",
      "yashraj Dhanuka\n"
     ]
    }
   ],
   "source": [
    "# custom method in our class\n",
    "# some_method\n",
    "\n",
    "class Employee:\n",
    "    \n",
    "    def __init__(self, first, last, pay):\n",
    "        self.first = first\n",
    "        self.last = last\n",
    "        self.pay= pay\n",
    "    \n",
    "\n",
    "    # Method in our class\n",
    "    # each method in a class automatically takes instance as the first argument =self\n",
    "    def fullname(self):\n",
    "        return('{} {}'. format(self.first, self.last))\n",
    "    \n",
    "\n",
    "emp_1 = Employee('yashraj','Dhanuka',50)\n",
    "\n",
    "print(emp_1.first)\n",
    "\n",
    "#as fullname is a method we need (), otherwise its memory location is printed\n",
    "print(emp_1.fullname())"
   ]
  },
  {
   "cell_type": "markdown",
   "metadata": {},
   "source": [
    "<h3> Different methods to call an object"
   ]
  },
  {
   "cell_type": "code",
   "execution_count": 79,
   "metadata": {},
   "outputs": [
    {
     "name": "stdout",
     "output_type": "stream",
     "text": [
      "yashraj Dhanuka\n"
     ]
    },
    {
     "data": {
      "text/plain": [
       "'yashraj Dhanuka'"
      ]
     },
     "execution_count": 79,
     "metadata": {},
     "output_type": "execute_result"
    }
   ],
   "source": [
    "# Run these methods using CLASS NAME\n",
    "\n",
    "class Employee:\n",
    "    \n",
    "    def __init__(self, first, last, pay):\n",
    "        self.first = first\n",
    "        self.last = last\n",
    "        self.pay= pay\n",
    "    \n",
    "    def fullname(self):\n",
    "        return('{} {}'. format(self.first, self.last))\n",
    "    \n",
    "emp_1 = Employee('yashraj','Dhanuka',50)\n",
    "\n",
    "#It automatically passes the emp_1 instance in the function\n",
    "print(emp_1.fullname())\n",
    "\n",
    "#we need to explicitly pass the instance when calling from class name\n",
    "Employee.fullname(emp_1)"
   ]
  },
  {
   "cell_type": "markdown",
   "metadata": {},
   "source": [
    "<h3> Class Variables"
   ]
  },
  {
   "cell_type": "markdown",
   "metadata": {},
   "source": [
    "Class variables are variables that are shared among all objects of the class.<br>\n",
    "\n",
    "So while instance Variables like our<tt> names, email and pay</tt> can be unique for each object.<br>\n",
    "\n",
    "Class variables is same for each object"
   ]
  },
  {
   "cell_type": "code",
   "execution_count": 80,
   "metadata": {},
   "outputs": [
    {
     "name": "stdout",
     "output_type": "stream",
     "text": [
      "1000\n",
      "1400.0\n"
     ]
    }
   ],
   "source": [
    "# Example\n",
    "# Suppose we want to rasie employee salaries \n",
    "class Employee:\n",
    "    \n",
    "    def __init__(self, first, last, pay):\n",
    "        self.first = first\n",
    "        self.last = last\n",
    "        self.pay= pay\n",
    "    \n",
    "    def fullname(self):\n",
    "        return('{} {}'. format(self.first, self.last))\n",
    "\n",
    "    def apply_raise(self):\n",
    "        self.pay= self.pay * 1.40\n",
    "    \n",
    "emp_1 = Employee('yashraj','Dhanuka',1000)\n",
    "\n",
    "print(emp_1.pay)\n",
    "emp_1.apply_raise()\n",
    "print(emp_1.pay)\n",
    "\n",
    "# First it would be nice if we could now by how much raise amount is\n",
    "# second we could update that percentage by which salary is raised\n",
    "\n"
   ]
  },
  {
   "cell_type": "code",
   "execution_count": 81,
   "metadata": {},
   "outputs": [
    {
     "name": "stdout",
     "output_type": "stream",
     "text": [
      "1000\n",
      "1400.0\n"
     ]
    }
   ],
   "source": [
    "# Example Adding Class Variable\n",
    " \n",
    "class Employee:\n",
    "    \n",
    "    # Class Variable\n",
    "    raise_amount = 1.40\n",
    "\n",
    "    def __init__(self, first, last, pay):\n",
    "        self.first = first\n",
    "        self.last = last\n",
    "        self.pay= pay\n",
    "    \n",
    "    def fullname(self):\n",
    "        return('{} {}'. format(self.first, self.last))\n",
    "\n",
    "    # Whenever we access class variables we access them through instance of class \n",
    "    # or through class itself\n",
    "\n",
    "    def apply_raise(self):\n",
    "        #THIS WONT WORK\n",
    "        #self.pay= self.pay * raise_amount\n",
    "\n",
    "        self.pay = self.pay * self.raise_amount\n",
    "        # self.pay = self.pay * Employee.raise_amount\n",
    "        # will also work\n",
    "\n",
    "    \n",
    "emp_1 = Employee('yashraj','Dhanuka',1000)\n",
    "emp_2 = Employee('rajesh','goel',7000)\n",
    "\n",
    "print(emp_1.pay)\n",
    "emp_1.apply_raise()\n",
    "print(emp_1.pay)"
   ]
  },
  {
   "cell_type": "markdown",
   "metadata": {},
   "source": [
    " __dict__ = it contains all the attributes which describe the object in question."
   ]
  },
  {
   "cell_type": "code",
   "execution_count": 82,
   "metadata": {},
   "outputs": [
    {
     "name": "stdout",
     "output_type": "stream",
     "text": [
      "Atributes of emp_1\n",
      "\n",
      " {'first': 'yashraj', 'last': 'Dhanuka', 'pay': 1400.0}\n",
      "\n",
      "\n",
      "Atributes of Employee\n",
      "\n",
      " {'__module__': '__main__', 'raise_amount': 1.4, '__init__': <function Employee.__init__ at 0x000001C3EBE69700>, 'fullname': <function Employee.fullname at 0x000001C3EBE695E0>, 'apply_raise': <function Employee.apply_raise at 0x000001C3EBE69280>, '__dict__': <attribute '__dict__' of 'Employee' objects>, '__weakref__': <attribute '__weakref__' of 'Employee' objects>, '__doc__': None}\n"
     ]
    }
   ],
   "source": [
    "print(\"Atributes of emp_1\\n\\n\", emp_1.__dict__ ) \n",
    "print(\"\\n\\nAtributes of Employee\\n\\n\", Employee.__dict__ ) "
   ]
  },
  {
   "cell_type": "markdown",
   "metadata": {},
   "source": [
    "<a><h3><u> Accessing Class Variables"
   ]
  },
  {
   "cell_type": "code",
   "execution_count": 83,
   "metadata": {},
   "outputs": [
    {
     "name": "stdout",
     "output_type": "stream",
     "text": [
      "1.4\n",
      "1.4\n",
      "1.4\n"
     ]
    }
   ],
   "source": [
    "# lets observe\n",
    "print(Employee.raise_amount)\n",
    "print(emp_1.raise_amount)\n",
    "print(emp_2.raise_amount)"
   ]
  },
  {
   "cell_type": "markdown",
   "metadata": {},
   "source": [
    "<u>Observation</u> - class variable can be accessed from both class itself as well as objects.<br>\n",
    "\n",
    "when we try to access an attribute (class or instance) of an object it will first check if the object contains that attribute or not and if it does not then it will see if the class or any class that it inherits from contains that attribute.<br>\n",
    "\n",
    "when we access raise_amount attribute, here object does not have that attribute themselves, but they are accessing raise_amount class attribute<br>"
   ]
  },
  {
   "cell_type": "markdown",
   "metadata": {},
   "source": [
    "when we do <tt> employe__dict__ </tt>.<br>\n",
    "we can see a raise_amount variable there, this variable is only accessed from by all the objects"
   ]
  },
  {
   "cell_type": "markdown",
   "metadata": {},
   "source": [
    "<a><h3><u> Chaning Class Variables(scope)"
   ]
  },
  {
   "cell_type": "code",
   "execution_count": 84,
   "metadata": {},
   "outputs": [
    {
     "name": "stdout",
     "output_type": "stream",
     "text": [
      "2.4\n",
      "2.4\n",
      "2.4\n"
     ]
    }
   ],
   "source": [
    "# Changing Class variable through Class name\n",
    "\n",
    "Employee.raise_amount=2.40\n",
    "\n",
    "print(Employee.raise_amount)\n",
    "print(emp_1.raise_amount)\n",
    "print(emp_2.raise_amount)"
   ]
  },
  {
   "cell_type": "markdown",
   "metadata": {},
   "source": [
    "<u>observation</u> - amount changes for all instances"
   ]
  },
  {
   "cell_type": "code",
   "execution_count": 85,
   "metadata": {},
   "outputs": [
    {
     "name": "stdout",
     "output_type": "stream",
     "text": [
      "2.4\n",
      "3.0\n",
      "2.4\n"
     ]
    }
   ],
   "source": [
    "# Changing Class Variable through object\n",
    "\n",
    "emp_1.raise_amount = 3.0\n",
    "\n",
    "print(Employee.raise_amount)\n",
    "print(emp_1.raise_amount)\n",
    "print(emp_2.raise_amount)"
   ]
  },
  {
   "cell_type": "markdown",
   "metadata": {},
   "source": [
    "<u>Observation- </u> Only concenred object variable changed."
   ]
  },
  {
   "cell_type": "markdown",
   "metadata": {},
   "source": [
    "It happened because we actually created the raise_amount attribute with in emp_1\n",
    "<br>\n",
    "Check it through emp_1.__dict__"
   ]
  },
  {
   "cell_type": "code",
   "execution_count": 86,
   "metadata": {},
   "outputs": [
    {
     "name": "stdout",
     "output_type": "stream",
     "text": [
      "Atributes of emp_1\n",
      "\n",
      " {'first': 'yashraj', 'last': 'Dhanuka', 'pay': 1400.0, 'raise_amount': 3.0}\n"
     ]
    }
   ],
   "source": [
    "print(\"Atributes of emp_1\\n\\n\", emp_1.__dict__ ) \n",
    "# initially raise amount was not there in emp_1\n",
    "# so now it has its own attribute and won't search for it in class"
   ]
  },
  {
   "cell_type": "code",
   "execution_count": 87,
   "metadata": {},
   "outputs": [
    {
     "data": {
      "text/plain": [
       "'\\ndef apply_raise(self):\\n    self.pay = self.pay * self.raise_amount\\n'"
      ]
     },
     "execution_count": 87,
     "metadata": {},
     "output_type": "execute_result"
    }
   ],
   "source": [
    "# Now it will matter if we are using \"SELF\" or \"EMPLOYEE\"\n",
    "\"\"\"\n",
    "def apply_raise(self):\n",
    "    self.pay = self.pay * self.raise_amount\n",
    "\"\"\"\n",
    "# self will give us ability to change attribute of that object only\n",
    "# whereas,\n",
    "# Employee.raise_amount will enforce to follow only class vairable among all objects\n",
    "\n",
    "# its better to use \"self\""
   ]
  },
  {
   "cell_type": "markdown",
   "metadata": {},
   "source": [
    "<a><h3><u> changing class variable automatically"
   ]
  },
  {
   "cell_type": "code",
   "execution_count": 88,
   "metadata": {},
   "outputs": [
    {
     "name": "stdout",
     "output_type": "stream",
     "text": [
      "2\n"
     ]
    }
   ],
   "source": [
    "# num_of_emp\n",
    "# we want to count how many employees objects were created\n",
    "\n",
    "class Employee:\n",
    "\n",
    "    raise_amount = 1.40\n",
    "    num_of_emp=0\n",
    "\n",
    "    def __init__(self, first, last, pay):\n",
    "        self.first = first\n",
    "        self.last = last\n",
    "        self.pay= pay\n",
    "\n",
    "        Employee.num_of_emp+=1\n",
    "        # if we would have used self then num_of_emp would not have changed.\n",
    "    \n",
    "    def fullname(self):\n",
    "        return('{} {}'. format(self.first, self.last))\n",
    "\n",
    "    def apply_raise(self):\n",
    "\n",
    "        self.pay = self.pay * self.raise_amount\n",
    "   \n",
    "emp_1 = Employee('yashraj','Dhanuka',1000)\n",
    "emp_2 = Employee('rajesh','goel',7000)\n",
    "\n",
    "print(Employee.num_of_emp)"
   ]
  },
  {
   "cell_type": "markdown",
   "metadata": {},
   "source": [
    "<a><h3><u> Regular(instance) vs Class vs Static Methods "
   ]
  },
  {
   "cell_type": "markdown",
   "metadata": {},
   "source": [
    "<h3>1. Instance Methods"
   ]
  },
  {
   "cell_type": "code",
   "execution_count": 4,
   "metadata": {},
   "outputs": [],
   "source": [
    "class MyClass:\n",
    "    def method(self):\n",
    "        return ('instance method called', self)"
   ]
  },
  {
   "cell_type": "markdown",
   "metadata": {},
   "source": [
    "<h5>\n",
    "\n",
    "- <tt>method</tt>, is a regular <u>instance method</u>.\n",
    "\n",
    "- You can see the method takes one parameter, self, which points to an instance of <tt>MyClass</tt> when the method is called.\n",
    "\n",
    "- Through the <tt>self</tt> parameter, instance methods can freely access attributes and other methods on the same object.\n",
    "\n",
    "- This gives them a lot of power when it comes to modifying an object’s state.\n",
    "\n",
    "- Not only can they modify object state, instance methods can also access the class itself through the self.<tt>__class__ </tt>attribute. \n",
    "\n",
    "- This means instance methods can also modify class state. </h5>"
   ]
  },
  {
   "cell_type": "markdown",
   "metadata": {},
   "source": [
    "<h6> Properties-\n",
    "\n",
    "- Bound to the object of a class\n",
    "- It can modify a object state\n",
    "- Can Access and modify both class and instance variables"
   ]
  },
  {
   "cell_type": "markdown",
   "metadata": {},
   "source": [
    "Behaviour -"
   ]
  },
  {
   "cell_type": "code",
   "execution_count": 3,
   "metadata": {},
   "outputs": [
    {
     "data": {
      "text/plain": [
       "('instance method called', <__main__.MyClass at 0x2141aaf6a60>)"
      ]
     },
     "execution_count": 3,
     "metadata": {},
     "output_type": "execute_result"
    }
   ],
   "source": [
    "obj = MyClass()\n",
    "obj.method()\n",
    "\n",
    "# This confirms that \"method\" (instance method) has access to the object instace\n",
    "# via the self argument "
   ]
  },
  {
   "cell_type": "code",
   "execution_count": 5,
   "metadata": {},
   "outputs": [
    {
     "data": {
      "text/plain": [
       "('instance method called', <__main__.MyClass at 0x2141aaf6a60>)"
      ]
     },
     "execution_count": 5,
     "metadata": {},
     "output_type": "execute_result"
    }
   ],
   "source": [
    "# When the method is called, Python replaces the self argument with the instance object, obj.\n",
    "# We could ignore dot-call syntax (obj.method()) \n",
    "# pass the instance object manually to get the same result\n",
    "\n",
    "MyClass.method(obj)\n",
    "\n",
    "# Instance methods powerful in terms of access restrictions - \n",
    "# they can modify state on the object instance and on the class itself.\n"
   ]
  },
  {
   "cell_type": "markdown",
   "metadata": {},
   "source": [
    "<h3> Class Methods"
   ]
  },
  {
   "cell_type": "code",
   "execution_count": null,
   "metadata": {},
   "outputs": [],
   "source": [
    "# Use the @classmethod decorator or the classmethod() function \n",
    "# to define the class method\n",
    "\n",
    "# Use cls as the first parameter in the class method when defining it.\n",
    "# The cls refers to the class."
   ]
  },
  {
   "cell_type": "markdown",
   "metadata": {},
   "source": [
    "@classmethod:\n",
    "- A method decorated with @classmethod is a class method.\n",
    "- It receives the class itself (conventionally named cls) as its first parameter, instead of the instance (conventionally named self).\n",
    "- Class methods can access and modify class state, which is shared among all instances of the class.\n",
    "- They are often used as alternative constructors or for operations that are related to the class rather than to a specific instance.\n",
    "- Class methods can be called using the class name or an instance of the class.\n",
    "- They are indicated by the @classmethod decorator just above the method definition."
   ]
  },
  {
   "cell_type": "markdown",
   "metadata": {},
   "source": [
    "Normal Function Inside a Class:\n",
    "\n",
    "- A normal function inside a class behaves like a regular function, except it is scoped within the class namespace.\n",
    "- It takes the instance itself (conventionally named self) as its first parameter, allowing it to interact with instance variables.\n",
    "- Normal functions inside a class cannot modify class variables directly (unless accessed via the class name).\n",
    "- They operate on the instance-specific data and behavior.\n",
    "- These functions are called instance methods, and they're the most common type of method in Python classes.\n",
    "- They can only be called on an instance of the class."
   ]
  },
  {
   "cell_type": "code",
   "execution_count": null,
   "metadata": {},
   "outputs": [],
   "source": [
    "class MyClass:\n",
    "    class_variable = 10\n",
    "\n",
    "    @classmethod\n",
    "    def class_method(cls):\n",
    "        print(cls.class_variable)  # accessing class variable\n",
    "\n",
    "    def instance_method(self):\n",
    "        print(self.class_variable)  # accessing class variable via instance\n",
    "\n",
    "\n",
    "# Using @classmethod\n",
    "MyClass.class_method()  # Output: 10\n",
    "\n",
    "# Using instance method\n",
    "obj = MyClass()\n",
    "obj.instance_method()  # Output: 10"
   ]
  },
  {
   "cell_type": "code",
   "execution_count": null,
   "metadata": {},
   "outputs": [],
   "source": [
    "class MyClass:\n",
    "    class_variable = 10\n",
    "\n",
    "    @classmethod\n",
    "    def class_method(cls, new_value):\n",
    "        cls.class_variable = new_value  # changing class variable\n",
    "\n",
    "    def instance_method(self, new_value):\n",
    "        self.class_variable = new_value  # changing class variable via instance\n",
    "\n",
    "\n",
    "# Using @classmethod to change class variable\n",
    "MyClass.class_method(20)\n",
    "print(MyClass.class_variable)  # Output: 20\n",
    "\n",
    "# Using instance method to change class variable\n",
    "obj = MyClass()\n",
    "obj.instance_method(30)\n",
    "\n",
    "print(obj.class_variable)  # Output: 30\n",
    "\n",
    "print(MyClass.class_variable)  # Output: 20 (unchanged because instance variable shadows class variable)\n",
    "#instance variable cannot change class variable\n"
   ]
  },
  {
   "cell_type": "code",
   "execution_count": 1,
   "metadata": {},
   "outputs": [],
   "source": [
    "class MyClass:\n",
    "    def method(self):\n",
    "        return 'instance method called', self\n",
    "\n",
    "    @classmethod\n",
    "    def classmethod(cls):\n",
    "        return 'class method called', cls"
   ]
  },
  {
   "cell_type": "markdown",
   "metadata": {},
   "source": [
    "Properties\n",
    "- Bound to the class\n",
    "- It can modify a class state\n",
    "- Can Access only Class Variable\n",
    "- Used to create factory methods"
   ]
  },
  {
   "cell_type": "markdown",
   "metadata": {},
   "source": [
    "<h3> 3. Static Methods"
   ]
  },
  {
   "cell_type": "code",
   "execution_count": 6,
   "metadata": {},
   "outputs": [],
   "source": [
    "# Use the @staticmethod decorator or \n",
    "# the staticmethod() function to define a static method.\n",
    "\n",
    "# A static method doesn’t take instance or class as a parameter because\n",
    "# they don’t have access to the instance variables and class variables.\n"
   ]
  },
  {
   "cell_type": "markdown",
   "metadata": {},
   "source": [
    "Instance method performs a set of actions on the data/value provided by the instance variables. If we use instance variables inside a method, such methods are called instance methods.\n",
    "\n",
    "Class method is method that is called on the class itself, not on a specific object instance. Therefore, it belongs to a class level, and all class instances share a class method.\n",
    "\n",
    "Static method is a general utility method that performs a task in isolation. This method doesn’t have access to the instance and class variable."
   ]
  }
 ],
 "metadata": {
  "interpreter": {
   "hash": "b3ba2566441a7c06988d0923437866b63cedc61552a5af99d1f4fb67d367b25f"
  },
  "kernelspec": {
   "display_name": "Python 3.9.7 ('base')",
   "language": "python",
   "name": "python3"
  },
  "language_info": {
   "codemirror_mode": {
    "name": "ipython",
    "version": 3
   },
   "file_extension": ".py",
   "mimetype": "text/x-python",
   "name": "python",
   "nbconvert_exporter": "python",
   "pygments_lexer": "ipython3",
   "version": "3.9.12"
  },
  "orig_nbformat": 4
 },
 "nbformat": 4,
 "nbformat_minor": 2
}
