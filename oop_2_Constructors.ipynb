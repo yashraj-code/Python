{
 "cells": [
  {
   "cell_type": "markdown",
   "metadata": {},
   "source": [
    "<a><h3> What is a Constructor ?"
   ]
  },
  {
   "cell_type": "markdown",
   "metadata": {},
   "source": [
    "A constructor is a special method used to create and initialize an object of a class.\n",
    "- The primary use of a constructor is to declare and initialize data member/ instance variables of a class.\n",
    "- The constructor contains a collection of statements (i.e., instructions) that executes at the time of object creation to initialize the attributes of an object."
   ]
  },
  {
   "cell_type": "markdown",
   "metadata": {},
   "source": [
    "Object creation is divided into two parts in Object Creation and Object initialization\n",
    "\n",
    "- Internally, the __new__ is the method that creates the object\n",
    "- And, using the __init__() method we can implement constructor to initialize the object."
   ]
  },
  {
   "cell_type": "code",
   "execution_count": 9,
   "metadata": {},
   "outputs": [
    {
     "name": "stdout",
     "output_type": "stream",
     "text": [
      "Inside Constructor\n",
      "All variables initialized\n",
      "Hello, my name is Emma\n"
     ]
    }
   ],
   "source": [
    "class Student:\n",
    "\n",
    "    # constructor\n",
    "    # initialize instance variable\n",
    "    def __init__(self, name):\n",
    "        print('Inside Constructor')\n",
    "        self.name = name\n",
    "        print('All variables initialized')\n",
    "\n",
    "    # instance Method\n",
    "    def show(self):\n",
    "        print('Hello, my name is', self.name)\n",
    "\n",
    "\n",
    "# create object using constructor\n",
    "s1 = Student('Emma')\n",
    "s1.show()"
   ]
  },
  {
   "cell_type": "markdown",
   "metadata": {},
   "source": [
    "<h3><a> Type of Constructors </h3></a>\n",
    "\n",
    "- Default Constructor\n",
    "- Non-parametrized constructor\n",
    "- Parameterized constructor"
   ]
  },
  {
   "cell_type": "markdown",
   "metadata": {},
   "source": [
    "<h5><u> 1. Default Constructor"
   ]
  },
  {
   "cell_type": "markdown",
   "metadata": {},
   "source": [
    "- Python will provide a default constructor if no constructor is defined.\n",
    "- Python adds a default constructor when we do not include the constructor in the class or forget to declare it.\n",
    "- It does not perform any task but initializes the objects.\n",
    "- It is an empty constructor without a body.\n"
   ]
  },
  {
   "cell_type": "code",
   "execution_count": 10,
   "metadata": {},
   "outputs": [
    {
     "name": "stdout",
     "output_type": "stream",
     "text": [
      "Inside Display\n"
     ]
    }
   ],
   "source": [
    "class Employee:\n",
    "    \n",
    "    def display(self):\n",
    "        print('Inside Display')\n",
    "\n",
    "emp = Employee()\n",
    "emp.display()"
   ]
  },
  {
   "cell_type": "markdown",
   "metadata": {},
   "source": [
    "<h5><u> 2. Non- Parametrized Constructor\n"
   ]
  },
  {
   "cell_type": "markdown",
   "metadata": {},
   "source": [
    "- A constructor without any arguments is called a non-parameterized constructor.\n",
    "- This type of constructor is used to initialize each object with default values.\n",
    "- This constructor doesn’t accept the arguments during object creation.\n",
    "- Instead, it initializes every object with the same set of values."
   ]
  },
  {
   "cell_type": "code",
   "execution_count": 11,
   "metadata": {},
   "outputs": [
    {
     "name": "stdout",
     "output_type": "stream",
     "text": [
      "Name: PYnative Address: ABC Street\n"
     ]
    }
   ],
   "source": [
    "class Company:\n",
    "\n",
    "    # no-argument constructor\n",
    "    def __init__(self):\n",
    "        self.name = \"PYnative\"\n",
    "        self.address = \"ABC Street\"\n",
    "\n",
    "    # a method for printing data members\n",
    "    def show(self):\n",
    "        print('Name:', self.name, 'Address:', self.address)\n",
    "\n",
    "# creating object of the class\n",
    "cmp = Company()\n",
    "\n",
    "# calling the instance method using the object\n",
    "cmp.show()"
   ]
  },
  {
   "cell_type": "markdown",
   "metadata": {},
   "source": [
    "<u><h5>3. Parameterized Constructor"
   ]
  },
  {
   "cell_type": "markdown",
   "metadata": {},
   "source": [
    "- A constructor with defined parameters or arguments is called a parameterized constructor.\n",
    "- We can pass different values to each object at the time of creation using a parameterized constructor."
   ]
  },
  {
   "cell_type": "code",
   "execution_count": 12,
   "metadata": {},
   "outputs": [
    {
     "name": "stdout",
     "output_type": "stream",
     "text": [
      "Emma 23 7500\n",
      "Kelly 25 8500\n"
     ]
    }
   ],
   "source": [
    "class Employee:\n",
    "    # parameterized constructor\n",
    "    def __init__(self, name, age, salary):\n",
    "        self.name = name\n",
    "        self.age = age\n",
    "        self.salary = salary\n",
    "\n",
    "    # display object\n",
    "    def show(self):\n",
    "        print(self.name, self.age, self.salary)\n",
    "\n",
    "# creating object of the Employee class\n",
    "emma = Employee('Emma', 23, 7500)\n",
    "emma.show()\n",
    "\n",
    "kelly = Employee('Kelly', 25, 8500)\n",
    "kelly.show()\n"
   ]
  },
  {
   "cell_type": "markdown",
   "metadata": {},
   "source": [
    "<h3><a> Constructor With Default Values"
   ]
  },
  {
   "cell_type": "markdown",
   "metadata": {},
   "source": [
    "- Python allows us to define a constructor with default values. \n",
    "- The default value will be used if we do not pass arguments to the constructor at the time of object creation."
   ]
  },
  {
   "cell_type": "code",
   "execution_count": 13,
   "metadata": {},
   "outputs": [
    {
     "name": "stdout",
     "output_type": "stream",
     "text": [
      "Emma 12 7\n",
      "Kelly 13 7\n"
     ]
    }
   ],
   "source": [
    "class Student:\n",
    "    # constructor with default values age and classroom\n",
    "    def __init__(self, name, age=12, classroom=7):\n",
    "        self.name = name\n",
    "        self.age = age\n",
    "        self.classroom = classroom\n",
    "\n",
    "    # display Student\n",
    "    def show(self):\n",
    "        print(self.name, self.age, self.classroom)\n",
    "\n",
    "# creating object of the Student class\n",
    "emma = Student('Emma')\n",
    "emma.show()\n",
    "\n",
    "kelly = Student('Kelly', 13)\n",
    "kelly.show()\n"
   ]
  },
  {
   "cell_type": "markdown",
   "metadata": {},
   "source": [
    "<h3><a> Constructor Overloading"
   ]
  },
  {
   "cell_type": "markdown",
   "metadata": {},
   "source": [
    "- Constructor overloading is a concept of having more than one constructor with a different parameters list in such a way so that each constructor can perform different tasks.\n",
    "        - example, we can create a three constructor which accepts a different set of parameters\n",
    "\n",
    "- <u>Python does not support constructor overloading.</u>\n",
    "- If we define multiple constructors then, the interpreter will consider only the last constructor and throws an error if the sequence of the arguments doesn’t match as per the last constructor."
   ]
  },
  {
   "cell_type": "code",
   "execution_count": 14,
   "metadata": {},
   "outputs": [
    {
     "ename": "TypeError",
     "evalue": "__init__() missing 1 required positional argument: 'age'",
     "output_type": "error",
     "traceback": [
      "\u001b[1;31m---------------------------------------------------------------------------\u001b[0m",
      "\u001b[1;31mTypeError\u001b[0m                                 Traceback (most recent call last)",
      "\u001b[1;32m~\\AppData\\Local\\Temp/ipykernel_8140/1521947965.py\u001b[0m in \u001b[0;36m<module>\u001b[1;34m\u001b[0m\n\u001b[0;32m     12\u001b[0m \u001b[1;33m\u001b[0m\u001b[0m\n\u001b[0;32m     13\u001b[0m \u001b[1;31m# creating first object\u001b[0m\u001b[1;33m\u001b[0m\u001b[1;33m\u001b[0m\u001b[0m\n\u001b[1;32m---> 14\u001b[1;33m \u001b[0memma\u001b[0m \u001b[1;33m=\u001b[0m \u001b[0mStudent\u001b[0m\u001b[1;33m(\u001b[0m\u001b[1;34m'Emma'\u001b[0m\u001b[1;33m)\u001b[0m\u001b[1;33m\u001b[0m\u001b[1;33m\u001b[0m\u001b[0m\n\u001b[0m\u001b[0;32m     15\u001b[0m \u001b[1;33m\u001b[0m\u001b[0m\n\u001b[0;32m     16\u001b[0m \u001b[1;31m# creating Second object\u001b[0m\u001b[1;33m\u001b[0m\u001b[1;33m\u001b[0m\u001b[0m\n",
      "\u001b[1;31mTypeError\u001b[0m: __init__() missing 1 required positional argument: 'age'"
     ]
    }
   ],
   "source": [
    "class Student:\n",
    "    # one argument constructor\n",
    "    def __init__(self, name):\n",
    "        print(\"One arguments constructor\")\n",
    "        self.name = name\n",
    "\n",
    "    # two argument constructor\n",
    "    def __init__(self, name, age):\n",
    "        print(\"Two arguments constructor\")\n",
    "        self.name = name\n",
    "        self.age = age\n",
    "\n",
    "# creating first object\n",
    "emma = Student('Emma')\n",
    "\n",
    "# creating Second object\n",
    "kelly = Student('Kelly', 13)\n"
   ]
  },
  {
   "cell_type": "markdown",
   "metadata": {},
   "source": [
    " obseravtion - \n",
    " - At the time of object creation, the interpreter executed the second constructor because Python always considers the last constructor.\n",
    " - Internally, the object of the class will always call the last constructor, even if the class has multiple constructors.\n"
   ]
  },
  {
   "cell_type": "markdown",
   "metadata": {},
   "source": [
    "<h3><a> Constructor Chaining"
   ]
  },
  {
   "cell_type": "markdown",
   "metadata": {},
   "source": [
    "- Constructor chaining is the process of calling one constructor from another constructor.\n",
    "- Constructor chaining is useful when you want to invoke multiple constructors, one after another, by initializing only one instance.\n",
    "- <u>constructor chaining is convenient when we are dealing with inheritance</u>\n",
    "- Using the <font color=red>super()</font> method we can invoke the parent class constructor from a child class."
   ]
  },
  {
   "cell_type": "markdown",
   "metadata": {},
   "source": [
    "EXPLANATION - WILL BE COVERED IN INHERTIANCE"
   ]
  },
  {
   "cell_type": "code",
   "execution_count": 15,
   "metadata": {},
   "outputs": [],
   "source": [
    "class Vehicle:\n",
    "    #constructor of Vehicle\n",
    "    def __init__(self,engine):\n",
    "        print(\"Ïnside Vehicle Constructor\")\n",
    "        self.engine = engine\n",
    "\n",
    "class Car(Vehicle):\n",
    "    #constructor of Car\n",
    "    def __init__(self, engine, max_speed):\n",
    "        super().__init__(engine)\n",
    "        print(\"Inside Car Constructor\")\n",
    "        self.max_speed = max_speed\n",
    "    \n",
    "class Electric_Car(Car):\n",
    "    # Constructor of Electric Car\n",
    "    def __init__(self, engine, max_speed, km_range):\n",
    "        super().__init__(engine, max_speed)\n",
    "        print('Inside Electric Car Constructor')\n",
    "        self.km_range = km_range"
   ]
  },
  {
   "cell_type": "code",
   "execution_count": 16,
   "metadata": {},
   "outputs": [
    {
     "name": "stdout",
     "output_type": "stream",
     "text": [
      "Ïnside Vechicle Constructor\n",
      "Inside Car Constructor\n",
      "Inside Electric Car Constructor\n",
      "Engine=1500cc, Max Speed=240, Km range=750\n"
     ]
    }
   ],
   "source": [
    "# Object of electric car\n",
    "ev = Electric_Car('1500cc', 240, 750)\n",
    "print(f'Engine={ev.engine}, Max Speed={ev.max_speed}, Km range={ev.km_range}')"
   ]
  },
  {
   "cell_type": "code",
   "execution_count": null,
   "metadata": {},
   "outputs": [],
   "source": []
  }
 ],
 "metadata": {
  "interpreter": {
   "hash": "b3ba2566441a7c06988d0923437866b63cedc61552a5af99d1f4fb67d367b25f"
  },
  "kernelspec": {
   "display_name": "Python 3.9.7 ('base')",
   "language": "python",
   "name": "python3"
  },
  "language_info": {
   "codemirror_mode": {
    "name": "ipython",
    "version": 3
   },
   "file_extension": ".py",
   "mimetype": "text/x-python",
   "name": "python",
   "nbconvert_exporter": "python",
   "pygments_lexer": "ipython3",
   "version": "3.9.7"
  },
  "orig_nbformat": 4
 },
 "nbformat": 4,
 "nbformat_minor": 2
}
